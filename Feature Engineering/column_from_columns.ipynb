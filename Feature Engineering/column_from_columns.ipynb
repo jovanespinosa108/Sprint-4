{
 "cells": [
  {
   "cell_type": "markdown",
   "metadata": {},
   "source": [
    "Crear nuevas columnas con base en valores de otras\n",
    "\n",
    "Una de las habilidades más útiles en el análisis de datos es crear una nueva columna a partir de las columnas existentes del conjunto de datos para resolver problemas específicos. Vamos a ver el conjunto de datos de las ventas de videojuegos."
   ]
  },
  {
   "cell_type": "code",
   "execution_count": null,
   "metadata": {},
   "outputs": [],
   "source": [
    "import pandas as pd\n",
    "\n",
    "df = pd.read_csv('/datasets/vg_sales.csv')\n",
    "print(df.head())\n",
    "\n",
    "\"\"\"\n",
    "                       name platform  year_of_release         genre publisher  \\\n",
    "0                Wii Sports      Wii           2006.0        Sports  Nintendo   \n",
    "1         Super Mario Bros.      NES           1985.0      Platform  Nintendo   \n",
    "2            Mario Kart Wii      Wii           2008.0        Racing  Nintendo   \n",
    "3         Wii Sports Resort      Wii           2009.0        Sports  Nintendo   \n",
    "4  Pokemon Red/Pokemon Blue       GB           1996.0  Role-Playing  Nintendo   \n",
    "\n",
    "  developer  na_sales  eu_sales  jp_sales  critic_score  user_score  \n",
    "0  Nintendo     41.36     28.96      3.77          76.0         8.0  \n",
    "1       NaN     29.08      3.58      6.81           NaN         NaN  \n",
    "2  Nintendo     15.68     12.76      3.79          82.0         8.3  \n",
    "3  Nintendo     15.61     10.93      3.28          80.0         8.0  \n",
    "4       NaN     11.27      8.89     10.22           NaN         NaN\"\"\""
   ]
  },
  {
   "cell_type": "markdown",
   "metadata": {},
   "source": [
    "Transformaciones de columnas mediante operadores aritméticos\n",
    "Fíjate que el DataFrame de arriba incluye las ventas de tres regiones: NA (Norteamérica), EU (Europa) y Japón (JPN). Para crear una columna llamada 'total_sales', tenemos que generarla a partir de las otras columnas. Afortunadamente, es fácil de hacer:"
   ]
  },
  {
   "cell_type": "code",
   "execution_count": null,
   "metadata": {},
   "outputs": [],
   "source": [
    "import pandas as pd\n",
    "\n",
    "df = pd.read_csv('/datasets/vg_sales.csv')\n",
    "\n",
    "df['total_sales'] = df['na_sales'] + df['eu_sales'] + df['jp_sales']\n",
    "print(df['total_sales'].head())\n",
    "\n",
    "\"\"\"\n",
    "0    74.09\n",
    "1    39.47\n",
    "2    32.23\n",
    "3    29.82\n",
    "4    30.38\n",
    "Name: total_sales, dtype: float64\"\"\""
   ]
  },
  {
   "cell_type": "markdown",
   "metadata": {},
   "source": [
    "Esto funciona porque la mayoría de las funciones matemáticas trabajan de forma vectorial: se aplican a columnas enteras a la vez, en lugar de recorrer cada valor de una columna. Esto proporciona un código más eficiente y conciso.\n",
    "\n",
    "Con este sencillo código, puede crear una nueva columna llamada 'total_sales' en el DataFrame. El contenido de esta columna consistirá en la suma de las ventas en las tres regiones, línea por línea.\n",
    "\n",
    "Podemos aprovechar este método para crear columnas a partir de fórmulas útiles. Por ejemplo, si queremos calcular la parte de las ventas totales que proceden de la UE, podemos hacerlo así:"
   ]
  },
  {
   "cell_type": "code",
   "execution_count": null,
   "metadata": {},
   "outputs": [],
   "source": [
    "import pandas as pd\n",
    "\n",
    "df = pd.read_csv('/datasets/vg_sales.csv')\n",
    "# crear la columna total_ventas y rellenarla\n",
    "df['total_sales'] = df['na_sales'] + df['eu_sales'] + df['jp_sales']\n",
    "\n",
    "# crear la columna eu_sales_share y rellenarla\n",
    "df['eu_sales_share'] = df['eu_sales'] / df['total_sales']\n",
    "print(df['eu_sales_share'].head())\n",
    "\n",
    "\"\"\"\n",
    "0    0.390876\n",
    "1    0.090702\n",
    "2    0.395904\n",
    "3    0.366533\n",
    "4    0.292627\n",
    "Name: eu_sales_share, dtype: float64\"\"\""
   ]
  },
  {
   "cell_type": "markdown",
   "metadata": {},
   "source": [
    "Generar columnas booleanas\n",
    "\n",
    "Imagina que queremos que una columna indique si algo es verdadero. Podemos crearla mediante los operadores de comparación ==, <, >=, etcétera. Por ejemplo, vamos a crear una columna que comprueba si la empresa distribuidora es Nintendo:"
   ]
  },
  {
   "cell_type": "code",
   "execution_count": null,
   "metadata": {},
   "outputs": [],
   "source": [
    "import pandas as pd\n",
    "\n",
    "df = pd.read_csv('/datasets/vg_sales.csv')\n",
    "\n",
    "# crear la columna is_nintendo y rellenarla\n",
    "df['is_nintendo'] = df['publisher'] == 'Nintendo'\n",
    "print(df['is_nintendo'].head())\n",
    "\n",
    "\"\"\"\n",
    "0    True\n",
    "1    True\n",
    "2    True\n",
    "3    True\n",
    "4    True\n",
    "Name: is_nintendo, dtype: bool\"\"\""
   ]
  },
  {
   "cell_type": "markdown",
   "metadata": {},
   "source": [
    "¡Mira cuánto se parece esto a lo que vimos en las lecciones de filtrado de datos! La mayor parte del filtrado de datos se obtiene aplicando columnas booleanas como una \"máscara\" sobre los datos. Recuerda que también podemos hacer esto con el conveniente método isin(), que comprueba si un valor está en una lista:"
   ]
  },
  {
   "cell_type": "code",
   "execution_count": null,
   "metadata": {},
   "outputs": [],
   "source": [
    "import pandas as pd\n",
    "\n",
    "df = pd.read_csv('/datasets/vg_sales.csv')\n",
    "\n",
    "# asegúrate de que estés comparando minúsculas\n",
    "print(df['platform'].str.lower().isin(['gb', 'wii']).head())\n",
    "\n",
    "\"\"\"\n",
    "0     True\n",
    "1    False\n",
    "2     True\n",
    "3     True\n",
    "4     True\n",
    "Name: platform, dtype: bool\"\"\"\n",
    "\n",
    "#Primero, convertimos el contenido de la columna a minúscula \n",
    "# para evitar errores como 'wii' versus 'Wii'."
   ]
  },
  {
   "cell_type": "markdown",
   "metadata": {},
   "source": [
    "Columnas categóricas\n",
    "\n",
    "Trabajar con datos de string sin procesar rara vez nos ayuda para el análisis de datos, pues por lo general las columnas de string necesitan algún tipo de procesamiento.\n",
    "\n",
    "Si la columna de string representa un conjunto de categorías, es mucho mejor tratar esos valores directamente como categorías.\n",
    "\n",
    "Convirtiendo una columna en un tipo de dato categórico en lugar de dejarla como cadena, podemos ahorrar memoria y agilizar el análisis, sobre todo en el caso de grandes conjuntos de datos.\n",
    "\n",
    " Dado que las columnas categóricas solo almacenan un único número (el ID de categoría) para cada entrada, en lugar del texto completo de la entrada. Además, el uso de categorías puede facilitar determinados análisis, como la agrupación de datos por categorías o el filtrado de datos en función de varias categorías a la vez. Y esto se puede hacer con el tipo de datos categorical (categórico).\n",
    "\n",
    "Mira los valores únicos de la columna 'platform' (plataforma)."
   ]
  },
  {
   "cell_type": "code",
   "execution_count": null,
   "metadata": {},
   "outputs": [],
   "source": [
    "import pandas as pd\n",
    "\n",
    "df = pd.read_csv('/datasets/vg_sales.csv')\n",
    "\n",
    "print(df['platform'].unique())\n",
    "\n",
    "\"\"\"['Wii' 'NES' 'GB' 'DS' 'X360' 'PS3' 'PS2' 'SNES' 'GBA' 'PS4' '3DS' 'N64'\n",
    " 'PS' 'XB' 'PC' '2600' 'PSP' 'XOne' 'WiiU' 'GC' 'GEN' 'DC' 'PSV' 'SAT'\n",
    " 'SCD' 'WS' 'NG' 'TG16' '3DO' 'GG' 'PCFX']\"\"\""
   ]
  },
  {
   "cell_type": "markdown",
   "metadata": {},
   "source": [
    "Podemos convertir 'platform' de columna de string a columna categórica usando el método astype() que aprendiste en el capítulo anterior:"
   ]
  },
  {
   "cell_type": "code",
   "execution_count": null,
   "metadata": {},
   "outputs": [],
   "source": [
    "import pandas as pd\n",
    "\n",
    "df = pd.read_csv('/datasets/vg_sales.csv')\n",
    "\n",
    "df['platform'] = df['platform'].astype('category')\n",
    "print(df['platform'].head())\n",
    "\n",
    "\"\"\"\n",
    "0    Wii\n",
    "1    NES\n",
    "2    Wii\n",
    "3    Wii\n",
    "4     GB\n",
    "Name: platform, dtype: category\n",
    "Categories (31, object): ['2600', '3DO', '3DS', 'DC', ..., 'WiiU', 'X360', 'XB', 'XOne']\"\"\""
   ]
  },
  {
   "cell_type": "markdown",
   "metadata": {},
   "source": [
    "Observa que solo hay 31 categorías a pesar de que hay 16 719 entradas. Cuando la columna está almacenada como strings, necesitamos mantener el texto completo de las 16 719 entradas. Cuando se almacena como category (categoría), solo almacenamos un número: el ID de categoría. ¡Qué bonito!"
   ]
  },
  {
   "cell_type": "markdown",
   "metadata": {},
   "source": [
    "Ejercicio\n",
    "\n",
    "Te han encargado comprobar cuál es el juego más vendido (en promedio) en todos los mercados.\n",
    "\n",
    "Necesitas:\n",
    "\n",
    "- Tomar el promedio de las columnas 'jp_sales', 'na_sales' y 'eu_sales' y guardarlo en una nueva columna llamada 'average_sales'.\n",
    "\n",
    "- Ordenar los valores del DataFrame por average_sales en orden descendente. Utiliza el método sort_values, pasando los argumentos correctos a los parámetros by= y ascending=.\n",
    "\n",
    "- Después muestra los primeros cinco valores del dataframe con la nueva columna."
   ]
  },
  {
   "cell_type": "code",
   "execution_count": null,
   "metadata": {},
   "outputs": [],
   "source": [
    "import pandas as pd\n",
    "\n",
    "df = pd.read_csv('/datasets/vg_sales.csv')\n",
    "\n",
    "df['average_sales'] = (df['jp_sales'] + df['na_sales'] + df['eu_sales'])/3 # escribe tu código aquí\n",
    "df= df.sort_values(by='average_sales', ascending=False) # escribe tu código aquí\n",
    "\n",
    "print(df.head())\n",
    "\n",
    "\"\"\"                       name platform  ...  user_score average_sales\n",
    "0                Wii Sports      Wii  ...           8     24.696667\n",
    "1         Super Mario Bros.      NES  ...         NaN     13.156667\n",
    "2            Mario Kart Wii      Wii  ...         8.3     10.743333\n",
    "4  Pokemon Red/Pokemon Blue       GB  ...         NaN     10.126667\n",
    "3         Wii Sports Resort      Wii  ...           8      9.940000\n",
    "\n",
    "[5 rows x 12 columns]\"\"\""
   ]
  }
 ],
 "metadata": {
  "kernelspec": {
   "display_name": "Python 3",
   "language": "python",
   "name": "python3"
  },
  "language_info": {
   "name": "python",
   "version": "3.12.0"
  }
 },
 "nbformat": 4,
 "nbformat_minor": 2
}
