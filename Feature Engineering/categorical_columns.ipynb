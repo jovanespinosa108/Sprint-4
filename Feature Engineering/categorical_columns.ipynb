{
 "cells": [
  {
   "cell_type": "markdown",
   "metadata": {},
   "source": [
    "Crear columnas categóricas con apply()\n",
    "\n",
    "En la lección anterior, aprendiste a crear nuevas columnas numéricas a partir de cálculos realizados en otras columnas numéricas de los datos. En esta lección, aprenderás a crear nuevas columnas categóricas que resuman datos numéricos en otras columnas. A menudo esta técnica puede simplificar el análisis y facilitar que otras personas entiendan los resultados que obtienes.\n",
    "\n",
    "Vamos a echar otro vistazo a la columna 'year_of_release' (año de lanzamiento) en el conjunto de datos de videojuegos. En especial, queremos conocer el rango de años que cubren nuestros datos."
   ]
  },
  {
   "cell_type": "code",
   "execution_count": null,
   "metadata": {},
   "outputs": [],
   "source": [
    "import pandas as pd\n",
    "\n",
    "df = pd.read_csv('/datasets/vg_sales.csv')\n",
    "\n",
    "print(df['year_of_release'].min(), df['year_of_release'].max())\n",
    "\n",
    "#1980.0 2020.0"
   ]
  },
  {
   "cell_type": "markdown",
   "metadata": {},
   "source": [
    "¡Vaya, 40 años de juegos! Echemos un vistazo de cerca a estos valores contando cuántos juegos tenemos por año."
   ]
  },
  {
   "cell_type": "code",
   "execution_count": null,
   "metadata": {},
   "outputs": [],
   "source": [
    "import pandas as pd\n",
    "\n",
    "df = pd.read_csv('/datasets/vg_sales.csv')\n",
    "df_year_of_release = df['year_of_release'].value_counts()\n",
    "\n",
    "print(df_year_of_release)\n",
    "\n",
    "\"\"\"2008.0    1427\n",
    "2009.0    1426\n",
    "2010.0    1255\n",
    "2007.0    1197\n",
    "2011.0    1136\n",
    "2006.0    1006\n",
    "2005.0     939\n",
    "2002.0     829\n",
    "2003.0     775\n",
    "2004.0     762\n",
    "2012.0     653\n",
    "2015.0     606\n",
    "2014.0     581\n",
    "2013.0     544\n",
    "2016.0     502\n",
    "2001.0     482\n",
    "1998.0     379\n",
    "2000.0     350\n",
    "1999.0     338\n",
    "1997.0     289\n",
    "1996.0     263\n",
    "1995.0     219\n",
    "1994.0     121\n",
    "1993.0      60\n",
    "1981.0      46\n",
    "1992.0      43\n",
    "1991.0      41\n",
    "1982.0      36\n",
    "1986.0      21\n",
    "1983.0      17\n",
    "1989.0      17\n",
    "1990.0      16\n",
    "1987.0      16\n",
    "1988.0      15\n",
    "1984.0      14\n",
    "1985.0      14\n",
    "1980.0       9\n",
    "2017.0       3\n",
    "2020.0       1\n",
    "Name: year_of_release, dtype: int64\"\"\""
   ]
  },
  {
   "cell_type": "markdown",
   "metadata": {},
   "source": [
    "Hemos recibido la respuesta, pero no está correctamente ordenada. Tenemos que ordenarla. El método value_counts() devuelve un recuento de los años, donde los años son el índice del nuevo DataFrame y los recuentos son los valores. Por lo tanto, ordenaremos nuestro resultado por los valores del índice para mostrarlo en orden cronológico.\n",
    "\n",
    "Para ello, utilizaremos el método sort_index(). Funciona igual que el viejo sort_values(), pero se aplica a los índices en lugar de a los valores:"
   ]
  },
  {
   "cell_type": "code",
   "execution_count": null,
   "metadata": {},
   "outputs": [],
   "source": [
    "import pandas as pd\n",
    "\n",
    "df = pd.read_csv('/datasets/vg_sales.csv')\n",
    "df_year_of_release = df['year_of_release'].value_counts().sort_index()\n",
    "\n",
    "print(df_year_of_release)\n",
    "\n",
    "\"\"\"\n",
    "1980.0       9\n",
    "1981.0      46\n",
    "1982.0      36\n",
    "1983.0      17\n",
    "1984.0      14\n",
    "1985.0      14\n",
    "1986.0      21\n",
    "1987.0      16\n",
    "1988.0      15\n",
    "1989.0      17\n",
    "1990.0      16\n",
    "1991.0      41\n",
    "1992.0      43\n",
    "1993.0      60\n",
    "1994.0     121\n",
    "1995.0     219\n",
    "1996.0     263\n",
    "1997.0     289\n",
    "1998.0     379\n",
    "1999.0     338\n",
    "2000.0     350\n",
    "2001.0     482\n",
    "2002.0     829\n",
    "2003.0     775\n",
    "2004.0     762\n",
    "2005.0     939\n",
    "2006.0    1006\n",
    "2007.0    1197\n",
    "2008.0    1427\n",
    "2009.0    1426\n",
    "2010.0    1255\n",
    "2011.0    1136\n",
    "2012.0     653\n",
    "2013.0     544\n",
    "2014.0     581\n",
    "2015.0     606\n",
    "2016.0     502\n",
    "2017.0       3\n",
    "2020.0       1\n",
    "Name: year_of_release, dtype: int64\"\"\""
   ]
  },
  {
   "cell_type": "markdown",
   "metadata": {},
   "source": [
    "¿Qué conclusiones podemos sacar a partir de estos datos? ¿Sería el análisis de los juegos de 2008 muy diferente del análisis de los juegos de 2009? Si queremos comparar los datos del 2000 con los de otros años, ¿debemos compararlos por separado con los de 1986 y 1987, o bien agruparlos en dos categorías: datos anteriores y posteriores a 2000?\n",
    "\n",
    "Es difícil producir conclusiones estadísticamente relevantes para juegos de cada año cuando los juegos del conjunto de datos están tan ampliamente distribuidos en todos los años. Podemos abordar este problema al combinar nuestros clientes en categorías de grupos de edad, de modo que cada grupo sea lo suficientemente grande para que saquemos conclusiones significativas.\n",
    "\n",
    "Categorización\n",
    "\n",
    "Necesitamos realizar la categorización, agrupando los datos en nuevas categorías que creamos. En este caso, vamos a agrupar los juegos en cuatro categorías en función de la época.\n",
    "\n",
    "- Los lanzados antes del año 2000 irán en la categoría 'retro'.\n",
    "- Los lanzados entre el 2000 y el 2009 irán en 'modern' (moderno).\n",
    "- Los lanzados a partir del 2010 irán en 'recent' (reciente).\n",
    "- Los que no tienen año de lanzamiento irán en 'unknown' (desconocido).\n",
    "- Queremos colocar cada juego en una de estas cuatro categorías y almacenar el resultado en una nueva columna.\n",
    "\n",
    "Para esto no hay ninguna función prefabricada de pandas. Por fortuna, podemos escribir nuestra propia función hecha a la medida de nuestras necesidades. La función debe aceptar el año de lanzamiento como input y devolver como resultado la categoría de época para ese año.\n",
    "\n",
    "Así se verá nuestra función personalizada era_group():"
   ]
  },
  {
   "cell_type": "code",
   "execution_count": null,
   "metadata": {},
   "outputs": [],
   "source": [
    "def era_group(year):\n",
    "    \"\"\"\n",
    "    La función devuelve el grupo de época de los juegos de acuerdo con el año de lanzamiento usando estas reglas:\n",
    "    —'retro'   para año < 2000\n",
    "    —'modern'  para 2000 <= año < 2010\n",
    "    —'recent'  para año >= 2010\n",
    "    —'unknown' para buscar valores año (NaN)\n",
    "    \"\"\"\n",
    "\n",
    "    if year < 2000:\n",
    "        return 'retro'\n",
    "    elif year < 2010:\n",
    "        return 'modern'\n",
    "    elif year >= 2010:\n",
    "        return 'recent'\n",
    "    else:\n",
    "        return 'unknown'"
   ]
  },
  {
   "cell_type": "markdown",
   "metadata": {},
   "source": [
    "Ahora necesitaremos probar la función para cada regla. Vamos a comprobar en cuáles categorías estarían tres juegos de diferentes años:"
   ]
  },
  {
   "cell_type": "code",
   "execution_count": null,
   "metadata": {},
   "outputs": [],
   "source": [
    "print(era_group(1983))\n",
    "print(era_group(2009))\n",
    "print(era_group(2021))\n",
    "print(era_group(np.nan))\n",
    "\n",
    "\"\"\"\n",
    "retro\n",
    "modern\n",
    "recent\n",
    "unknown\"\"\""
   ]
  },
  {
   "cell_type": "markdown",
   "metadata": {},
   "source": [
    "¡Excelente! La función trabaja justo como esperábamos. A continuación, crearemos una nueva columna para registrar las categorías de época."
   ]
  },
  {
   "cell_type": "markdown",
   "metadata": {},
   "source": [
    "El método apply()\n",
    "\n",
    "Para crear una columna de categoría de época usando nuestra función personalizada era_group(), necesitaremos llamar al método apply(), el cual toma valores de una columna DataFrame y les aplica una función.\n",
    "\n",
    "En este caso, el método apply() se debe aplicar a la columna 'year_of_release' column, porque 'year_of_release' contiene los datos que la función usará como input. La función era_group() se convierte entonces en el argumento que pasamos al método apply()."
   ]
  },
  {
   "cell_type": "code",
   "execution_count": null,
   "metadata": {},
   "outputs": [],
   "source": [
    "import pandas as pd\n",
    "\n",
    "def era_group(year):\n",
    "    \"\"\"\n",
    "    La función devuelve el grupo de época de los juegos de acuerdo con el año de lanzamiento usando estas reglas:\n",
    "    —'retro'   para año < 2000\n",
    "    —'modern'  para 2000 <= año < 2010\n",
    "    —'recent'  para año >= 2010\n",
    "    —'unknown' para buscar valores año (NaN)\n",
    "    \"\"\"\n",
    "\n",
    "    if year < 2000:\n",
    "        return 'retro'\n",
    "    elif year < 2010:\n",
    "        return 'modern'\n",
    "    elif year >= 2010:\n",
    "        return 'recent'\n",
    "    else:\n",
    "        return 'unknown'\n",
    "\n",
    "\n",
    "df = pd.read_csv('/datasets/vg_sales.csv')\n",
    "\n",
    "df['era_group'] = df['year_of_release'].apply(era_group)\n",
    "print(df.head())\n",
    "\n",
    "\"\"\"              name platform  year_of_release         genre publisher  \\\n",
    "0                Wii Sports      Wii           2006.0        Sports  Nintendo   \n",
    "1         Super Mario Bros.      NES           1985.0      Platform  Nintendo   \n",
    "2            Mario Kart Wii      Wii           2008.0        Racing  Nintendo   \n",
    "3         Wii Sports Resort      Wii           2009.0        Sports  Nintendo   \n",
    "4  Pokemon Red/Pokemon Blue       GB           1996.0  Role-Playing  Nintendo   \n",
    "\n",
    "  developer  na_sales  eu_sales  jp_sales  critic_score  user_score era_group  \n",
    "0  Nintendo     41.36     28.96      3.77          76.0         8.0    modern  \n",
    "1       NaN     29.08      3.58      6.81           NaN         NaN     retro  \n",
    "2  Nintendo     15.68     12.76      3.79          82.0         8.3    modern  \n",
    "3  Nintendo     15.61     10.93      3.28          80.0         8.0    modern  \n",
    "4       NaN     11.27      8.89     10.22           NaN         NaN     retro\"\"\""
   ]
  },
  {
   "cell_type": "markdown",
   "metadata": {},
   "source": [
    "Así de sencillo es crear una columna con nuestra función personalizada: ¡tan solo una línea de código!\n",
    "\n",
    "Ahora vamos a analizar los datos en los grupos de época con el método value_counts():"
   ]
  },
  {
   "cell_type": "code",
   "execution_count": null,
   "metadata": {},
   "outputs": [],
   "source": [
    "import pandas as pd\n",
    "\n",
    "def era_group(year):\n",
    "    \"\"\"\n",
    "    La función devuelve el grupo de época de los juegos de acuerdo con el año de lanzamiento usando estas reglas:\n",
    "    —'retro'   para año < 2000\n",
    "    —'modern'  para 2000 <= año < 2010\n",
    "    —'recent'  para año >= 2010\n",
    "    —'unknown' para buscar valores año (NaN)\n",
    "    \"\"\"\n",
    "\n",
    "    if year < 2000:\n",
    "        return 'retro'\n",
    "    elif year < 2010:\n",
    "        return 'modern'\n",
    "    elif year >= 2010:\n",
    "        return 'recent'\n",
    "    else:\n",
    "        return 'unknown'\n",
    "\n",
    "\n",
    "df = pd.read_csv('/datasets/vg_sales.csv')\n",
    "\n",
    "df['era_group'] = df['year_of_release'].apply(era_group)\n",
    "print(df['era_group'].value_counts())\n",
    "\n",
    "\"\"\"\n",
    "modern     9193\n",
    "recent     5281\n",
    "retro      1974\n",
    "unknown     269\n",
    "Name: era_group, dtype: int64\"\"\""
   ]
  },
  {
   "cell_type": "markdown",
   "metadata": {},
   "source": [
    "Los datos están listos para el análisis.\n",
    "\n",
    "Ahora te toca a ti. En los ejercicios, practica usar apply() para categorizar los videojuegos según sus calificaciones y analiza cómo se relaciona eso con las ventas."
   ]
  },
  {
   "cell_type": "markdown",
   "metadata": {},
   "source": [
    "1.\n",
    "\n",
    "Comienza por escribir una función llamada score_group() que organice los juegos por categorías de acuerdo con las puntuaciones de las críticas. Categoriza las puntuaciones con base en estas características:\n",
    "\n",
    "valor 'low' (bajo) para puntuaciones menores a 60.\n",
    "valor 'medium' (medio) para puntuaciones de 60 a 79.\n",
    "valor 'high' (alto) para puntuaciones mayores a 80.\n",
    "valor 'no score' (sin puntuación) para puntuaciones sin valores.\n",
    "La función score_group() debe tener un input numérico llamado score. La salida debe ser una cadena que designe la categoría de la puntuación.\n",
    "\n",
    "Asegúrate de que tu función produzca el output correcto cuando se le pasen los valores 10, 65, 99 y np.nan. Escribimos una declaración print() distinta para llamar a cada función.\n",
    "\n",
    "No dudes en copiar nuestra función del ejemplo anterior y adaptarla a tus necesidades actuales."
   ]
  },
  {
   "cell_type": "code",
   "execution_count": 1,
   "metadata": {},
   "outputs": [
    {
     "ename": "FileNotFoundError",
     "evalue": "[Errno 2] No such file or directory: '/datasets/vg_sales.csv'",
     "output_type": "error",
     "traceback": [
      "\u001b[1;31m---------------------------------------------------------------------------\u001b[0m",
      "\u001b[1;31mFileNotFoundError\u001b[0m                         Traceback (most recent call last)",
      "Cell \u001b[1;32mIn[1], line 4\u001b[0m\n\u001b[0;32m      1\u001b[0m \u001b[38;5;28;01mimport\u001b[39;00m \u001b[38;5;21;01mpandas\u001b[39;00m \u001b[38;5;28;01mas\u001b[39;00m \u001b[38;5;21;01mpd\u001b[39;00m\n\u001b[0;32m      2\u001b[0m \u001b[38;5;28;01mimport\u001b[39;00m \u001b[38;5;21;01mnumpy\u001b[39;00m \u001b[38;5;28;01mas\u001b[39;00m \u001b[38;5;21;01mnp\u001b[39;00m\n\u001b[1;32m----> 4\u001b[0m df \u001b[38;5;241m=\u001b[39m \u001b[43mpd\u001b[49m\u001b[38;5;241;43m.\u001b[39;49m\u001b[43mread_csv\u001b[49m\u001b[43m(\u001b[49m\u001b[38;5;124;43m'\u001b[39;49m\u001b[38;5;124;43m/datasets/vg_sales.csv\u001b[39;49m\u001b[38;5;124;43m'\u001b[39;49m\u001b[43m)\u001b[49m\n\u001b[0;32m      6\u001b[0m \u001b[38;5;28;01mdef\u001b[39;00m \u001b[38;5;21mscore_group\u001b[39m(score):\n\u001b[0;32m      7\u001b[0m \u001b[38;5;250m    \u001b[39m\u001b[38;5;124;03m'''La funcion devuelve los juegos por categoria de acuerdo con las puntuaciones de las criticas'''\u001b[39;00m\n",
      "File \u001b[1;32mc:\\Users\\jovan\\AppData\\Local\\Programs\\Python\\Python312\\Lib\\site-packages\\pandas\\io\\parsers\\readers.py:1026\u001b[0m, in \u001b[0;36mread_csv\u001b[1;34m(filepath_or_buffer, sep, delimiter, header, names, index_col, usecols, dtype, engine, converters, true_values, false_values, skipinitialspace, skiprows, skipfooter, nrows, na_values, keep_default_na, na_filter, verbose, skip_blank_lines, parse_dates, infer_datetime_format, keep_date_col, date_parser, date_format, dayfirst, cache_dates, iterator, chunksize, compression, thousands, decimal, lineterminator, quotechar, quoting, doublequote, escapechar, comment, encoding, encoding_errors, dialect, on_bad_lines, delim_whitespace, low_memory, memory_map, float_precision, storage_options, dtype_backend)\u001b[0m\n\u001b[0;32m   1013\u001b[0m kwds_defaults \u001b[38;5;241m=\u001b[39m _refine_defaults_read(\n\u001b[0;32m   1014\u001b[0m     dialect,\n\u001b[0;32m   1015\u001b[0m     delimiter,\n\u001b[1;32m   (...)\u001b[0m\n\u001b[0;32m   1022\u001b[0m     dtype_backend\u001b[38;5;241m=\u001b[39mdtype_backend,\n\u001b[0;32m   1023\u001b[0m )\n\u001b[0;32m   1024\u001b[0m kwds\u001b[38;5;241m.\u001b[39mupdate(kwds_defaults)\n\u001b[1;32m-> 1026\u001b[0m \u001b[38;5;28;01mreturn\u001b[39;00m \u001b[43m_read\u001b[49m\u001b[43m(\u001b[49m\u001b[43mfilepath_or_buffer\u001b[49m\u001b[43m,\u001b[49m\u001b[43m \u001b[49m\u001b[43mkwds\u001b[49m\u001b[43m)\u001b[49m\n",
      "File \u001b[1;32mc:\\Users\\jovan\\AppData\\Local\\Programs\\Python\\Python312\\Lib\\site-packages\\pandas\\io\\parsers\\readers.py:620\u001b[0m, in \u001b[0;36m_read\u001b[1;34m(filepath_or_buffer, kwds)\u001b[0m\n\u001b[0;32m    617\u001b[0m _validate_names(kwds\u001b[38;5;241m.\u001b[39mget(\u001b[38;5;124m\"\u001b[39m\u001b[38;5;124mnames\u001b[39m\u001b[38;5;124m\"\u001b[39m, \u001b[38;5;28;01mNone\u001b[39;00m))\n\u001b[0;32m    619\u001b[0m \u001b[38;5;66;03m# Create the parser.\u001b[39;00m\n\u001b[1;32m--> 620\u001b[0m parser \u001b[38;5;241m=\u001b[39m \u001b[43mTextFileReader\u001b[49m\u001b[43m(\u001b[49m\u001b[43mfilepath_or_buffer\u001b[49m\u001b[43m,\u001b[49m\u001b[43m \u001b[49m\u001b[38;5;241;43m*\u001b[39;49m\u001b[38;5;241;43m*\u001b[39;49m\u001b[43mkwds\u001b[49m\u001b[43m)\u001b[49m\n\u001b[0;32m    622\u001b[0m \u001b[38;5;28;01mif\u001b[39;00m chunksize \u001b[38;5;129;01mor\u001b[39;00m iterator:\n\u001b[0;32m    623\u001b[0m     \u001b[38;5;28;01mreturn\u001b[39;00m parser\n",
      "File \u001b[1;32mc:\\Users\\jovan\\AppData\\Local\\Programs\\Python\\Python312\\Lib\\site-packages\\pandas\\io\\parsers\\readers.py:1620\u001b[0m, in \u001b[0;36mTextFileReader.__init__\u001b[1;34m(self, f, engine, **kwds)\u001b[0m\n\u001b[0;32m   1617\u001b[0m     \u001b[38;5;28mself\u001b[39m\u001b[38;5;241m.\u001b[39moptions[\u001b[38;5;124m\"\u001b[39m\u001b[38;5;124mhas_index_names\u001b[39m\u001b[38;5;124m\"\u001b[39m] \u001b[38;5;241m=\u001b[39m kwds[\u001b[38;5;124m\"\u001b[39m\u001b[38;5;124mhas_index_names\u001b[39m\u001b[38;5;124m\"\u001b[39m]\n\u001b[0;32m   1619\u001b[0m \u001b[38;5;28mself\u001b[39m\u001b[38;5;241m.\u001b[39mhandles: IOHandles \u001b[38;5;241m|\u001b[39m \u001b[38;5;28;01mNone\u001b[39;00m \u001b[38;5;241m=\u001b[39m \u001b[38;5;28;01mNone\u001b[39;00m\n\u001b[1;32m-> 1620\u001b[0m \u001b[38;5;28mself\u001b[39m\u001b[38;5;241m.\u001b[39m_engine \u001b[38;5;241m=\u001b[39m \u001b[38;5;28;43mself\u001b[39;49m\u001b[38;5;241;43m.\u001b[39;49m\u001b[43m_make_engine\u001b[49m\u001b[43m(\u001b[49m\u001b[43mf\u001b[49m\u001b[43m,\u001b[49m\u001b[43m \u001b[49m\u001b[38;5;28;43mself\u001b[39;49m\u001b[38;5;241;43m.\u001b[39;49m\u001b[43mengine\u001b[49m\u001b[43m)\u001b[49m\n",
      "File \u001b[1;32mc:\\Users\\jovan\\AppData\\Local\\Programs\\Python\\Python312\\Lib\\site-packages\\pandas\\io\\parsers\\readers.py:1880\u001b[0m, in \u001b[0;36mTextFileReader._make_engine\u001b[1;34m(self, f, engine)\u001b[0m\n\u001b[0;32m   1878\u001b[0m     \u001b[38;5;28;01mif\u001b[39;00m \u001b[38;5;124m\"\u001b[39m\u001b[38;5;124mb\u001b[39m\u001b[38;5;124m\"\u001b[39m \u001b[38;5;129;01mnot\u001b[39;00m \u001b[38;5;129;01min\u001b[39;00m mode:\n\u001b[0;32m   1879\u001b[0m         mode \u001b[38;5;241m+\u001b[39m\u001b[38;5;241m=\u001b[39m \u001b[38;5;124m\"\u001b[39m\u001b[38;5;124mb\u001b[39m\u001b[38;5;124m\"\u001b[39m\n\u001b[1;32m-> 1880\u001b[0m \u001b[38;5;28mself\u001b[39m\u001b[38;5;241m.\u001b[39mhandles \u001b[38;5;241m=\u001b[39m \u001b[43mget_handle\u001b[49m\u001b[43m(\u001b[49m\n\u001b[0;32m   1881\u001b[0m \u001b[43m    \u001b[49m\u001b[43mf\u001b[49m\u001b[43m,\u001b[49m\n\u001b[0;32m   1882\u001b[0m \u001b[43m    \u001b[49m\u001b[43mmode\u001b[49m\u001b[43m,\u001b[49m\n\u001b[0;32m   1883\u001b[0m \u001b[43m    \u001b[49m\u001b[43mencoding\u001b[49m\u001b[38;5;241;43m=\u001b[39;49m\u001b[38;5;28;43mself\u001b[39;49m\u001b[38;5;241;43m.\u001b[39;49m\u001b[43moptions\u001b[49m\u001b[38;5;241;43m.\u001b[39;49m\u001b[43mget\u001b[49m\u001b[43m(\u001b[49m\u001b[38;5;124;43m\"\u001b[39;49m\u001b[38;5;124;43mencoding\u001b[39;49m\u001b[38;5;124;43m\"\u001b[39;49m\u001b[43m,\u001b[49m\u001b[43m \u001b[49m\u001b[38;5;28;43;01mNone\u001b[39;49;00m\u001b[43m)\u001b[49m\u001b[43m,\u001b[49m\n\u001b[0;32m   1884\u001b[0m \u001b[43m    \u001b[49m\u001b[43mcompression\u001b[49m\u001b[38;5;241;43m=\u001b[39;49m\u001b[38;5;28;43mself\u001b[39;49m\u001b[38;5;241;43m.\u001b[39;49m\u001b[43moptions\u001b[49m\u001b[38;5;241;43m.\u001b[39;49m\u001b[43mget\u001b[49m\u001b[43m(\u001b[49m\u001b[38;5;124;43m\"\u001b[39;49m\u001b[38;5;124;43mcompression\u001b[39;49m\u001b[38;5;124;43m\"\u001b[39;49m\u001b[43m,\u001b[49m\u001b[43m \u001b[49m\u001b[38;5;28;43;01mNone\u001b[39;49;00m\u001b[43m)\u001b[49m\u001b[43m,\u001b[49m\n\u001b[0;32m   1885\u001b[0m \u001b[43m    \u001b[49m\u001b[43mmemory_map\u001b[49m\u001b[38;5;241;43m=\u001b[39;49m\u001b[38;5;28;43mself\u001b[39;49m\u001b[38;5;241;43m.\u001b[39;49m\u001b[43moptions\u001b[49m\u001b[38;5;241;43m.\u001b[39;49m\u001b[43mget\u001b[49m\u001b[43m(\u001b[49m\u001b[38;5;124;43m\"\u001b[39;49m\u001b[38;5;124;43mmemory_map\u001b[39;49m\u001b[38;5;124;43m\"\u001b[39;49m\u001b[43m,\u001b[49m\u001b[43m \u001b[49m\u001b[38;5;28;43;01mFalse\u001b[39;49;00m\u001b[43m)\u001b[49m\u001b[43m,\u001b[49m\n\u001b[0;32m   1886\u001b[0m \u001b[43m    \u001b[49m\u001b[43mis_text\u001b[49m\u001b[38;5;241;43m=\u001b[39;49m\u001b[43mis_text\u001b[49m\u001b[43m,\u001b[49m\n\u001b[0;32m   1887\u001b[0m \u001b[43m    \u001b[49m\u001b[43merrors\u001b[49m\u001b[38;5;241;43m=\u001b[39;49m\u001b[38;5;28;43mself\u001b[39;49m\u001b[38;5;241;43m.\u001b[39;49m\u001b[43moptions\u001b[49m\u001b[38;5;241;43m.\u001b[39;49m\u001b[43mget\u001b[49m\u001b[43m(\u001b[49m\u001b[38;5;124;43m\"\u001b[39;49m\u001b[38;5;124;43mencoding_errors\u001b[39;49m\u001b[38;5;124;43m\"\u001b[39;49m\u001b[43m,\u001b[49m\u001b[43m \u001b[49m\u001b[38;5;124;43m\"\u001b[39;49m\u001b[38;5;124;43mstrict\u001b[39;49m\u001b[38;5;124;43m\"\u001b[39;49m\u001b[43m)\u001b[49m\u001b[43m,\u001b[49m\n\u001b[0;32m   1888\u001b[0m \u001b[43m    \u001b[49m\u001b[43mstorage_options\u001b[49m\u001b[38;5;241;43m=\u001b[39;49m\u001b[38;5;28;43mself\u001b[39;49m\u001b[38;5;241;43m.\u001b[39;49m\u001b[43moptions\u001b[49m\u001b[38;5;241;43m.\u001b[39;49m\u001b[43mget\u001b[49m\u001b[43m(\u001b[49m\u001b[38;5;124;43m\"\u001b[39;49m\u001b[38;5;124;43mstorage_options\u001b[39;49m\u001b[38;5;124;43m\"\u001b[39;49m\u001b[43m,\u001b[49m\u001b[43m \u001b[49m\u001b[38;5;28;43;01mNone\u001b[39;49;00m\u001b[43m)\u001b[49m\u001b[43m,\u001b[49m\n\u001b[0;32m   1889\u001b[0m \u001b[43m\u001b[49m\u001b[43m)\u001b[49m\n\u001b[0;32m   1890\u001b[0m \u001b[38;5;28;01massert\u001b[39;00m \u001b[38;5;28mself\u001b[39m\u001b[38;5;241m.\u001b[39mhandles \u001b[38;5;129;01mis\u001b[39;00m \u001b[38;5;129;01mnot\u001b[39;00m \u001b[38;5;28;01mNone\u001b[39;00m\n\u001b[0;32m   1891\u001b[0m f \u001b[38;5;241m=\u001b[39m \u001b[38;5;28mself\u001b[39m\u001b[38;5;241m.\u001b[39mhandles\u001b[38;5;241m.\u001b[39mhandle\n",
      "File \u001b[1;32mc:\\Users\\jovan\\AppData\\Local\\Programs\\Python\\Python312\\Lib\\site-packages\\pandas\\io\\common.py:873\u001b[0m, in \u001b[0;36mget_handle\u001b[1;34m(path_or_buf, mode, encoding, compression, memory_map, is_text, errors, storage_options)\u001b[0m\n\u001b[0;32m    868\u001b[0m \u001b[38;5;28;01melif\u001b[39;00m \u001b[38;5;28misinstance\u001b[39m(handle, \u001b[38;5;28mstr\u001b[39m):\n\u001b[0;32m    869\u001b[0m     \u001b[38;5;66;03m# Check whether the filename is to be opened in binary mode.\u001b[39;00m\n\u001b[0;32m    870\u001b[0m     \u001b[38;5;66;03m# Binary mode does not support 'encoding' and 'newline'.\u001b[39;00m\n\u001b[0;32m    871\u001b[0m     \u001b[38;5;28;01mif\u001b[39;00m ioargs\u001b[38;5;241m.\u001b[39mencoding \u001b[38;5;129;01mand\u001b[39;00m \u001b[38;5;124m\"\u001b[39m\u001b[38;5;124mb\u001b[39m\u001b[38;5;124m\"\u001b[39m \u001b[38;5;129;01mnot\u001b[39;00m \u001b[38;5;129;01min\u001b[39;00m ioargs\u001b[38;5;241m.\u001b[39mmode:\n\u001b[0;32m    872\u001b[0m         \u001b[38;5;66;03m# Encoding\u001b[39;00m\n\u001b[1;32m--> 873\u001b[0m         handle \u001b[38;5;241m=\u001b[39m \u001b[38;5;28;43mopen\u001b[39;49m\u001b[43m(\u001b[49m\n\u001b[0;32m    874\u001b[0m \u001b[43m            \u001b[49m\u001b[43mhandle\u001b[49m\u001b[43m,\u001b[49m\n\u001b[0;32m    875\u001b[0m \u001b[43m            \u001b[49m\u001b[43mioargs\u001b[49m\u001b[38;5;241;43m.\u001b[39;49m\u001b[43mmode\u001b[49m\u001b[43m,\u001b[49m\n\u001b[0;32m    876\u001b[0m \u001b[43m            \u001b[49m\u001b[43mencoding\u001b[49m\u001b[38;5;241;43m=\u001b[39;49m\u001b[43mioargs\u001b[49m\u001b[38;5;241;43m.\u001b[39;49m\u001b[43mencoding\u001b[49m\u001b[43m,\u001b[49m\n\u001b[0;32m    877\u001b[0m \u001b[43m            \u001b[49m\u001b[43merrors\u001b[49m\u001b[38;5;241;43m=\u001b[39;49m\u001b[43merrors\u001b[49m\u001b[43m,\u001b[49m\n\u001b[0;32m    878\u001b[0m \u001b[43m            \u001b[49m\u001b[43mnewline\u001b[49m\u001b[38;5;241;43m=\u001b[39;49m\u001b[38;5;124;43m\"\u001b[39;49m\u001b[38;5;124;43m\"\u001b[39;49m\u001b[43m,\u001b[49m\n\u001b[0;32m    879\u001b[0m \u001b[43m        \u001b[49m\u001b[43m)\u001b[49m\n\u001b[0;32m    880\u001b[0m     \u001b[38;5;28;01melse\u001b[39;00m:\n\u001b[0;32m    881\u001b[0m         \u001b[38;5;66;03m# Binary mode\u001b[39;00m\n\u001b[0;32m    882\u001b[0m         handle \u001b[38;5;241m=\u001b[39m \u001b[38;5;28mopen\u001b[39m(handle, ioargs\u001b[38;5;241m.\u001b[39mmode)\n",
      "\u001b[1;31mFileNotFoundError\u001b[0m: [Errno 2] No such file or directory: '/datasets/vg_sales.csv'"
     ]
    }
   ],
   "source": [
    "import pandas as pd\n",
    "import numpy as np\n",
    "\n",
    "df = pd.read_csv('/datasets/vg_sales.csv')\n",
    "\n",
    "def score_group(score):\n",
    "    '''La funcion devuelve los juegos por categoria de acuerdo con las puntuaciones de las criticas'''\n",
    "    \n",
    "    if score < 60:\n",
    "        return 'low'\n",
    "    elif score < 80:\n",
    "        return 'medium'\n",
    "    elif score >= 80:\n",
    "        return 'high'\n",
    "    else:\n",
    "        return 'no score'\n",
    "        # escribe aquí la definición de tu función\n",
    "\n",
    "# imprime los resultados de llamar a la función con estos inputs en orden: 10, 65, 99, np.nan\n",
    "print(score_group(10))\n",
    "print(score_group(65))\n",
    "print(score_group(99))\n",
    "print(score_group(np.nan))\n",
    "\n",
    "\"\"\"\n",
    "low\n",
    "medium\n",
    "high\n",
    "no score\"\"\""
   ]
  },
  {
   "cell_type": "code",
   "execution_count": null,
   "metadata": {},
   "outputs": [],
   "source": []
  },
  {
   "cell_type": "code",
   "execution_count": null,
   "metadata": {},
   "outputs": [],
   "source": []
  }
 ],
 "metadata": {
  "kernelspec": {
   "display_name": "Python 3",
   "language": "python",
   "name": "python3"
  },
  "language_info": {
   "codemirror_mode": {
    "name": "ipython",
    "version": 3
   },
   "file_extension": ".py",
   "mimetype": "text/x-python",
   "name": "python",
   "nbconvert_exporter": "python",
   "pygments_lexer": "ipython3",
   "version": "3.12.0"
  }
 },
 "nbformat": 4,
 "nbformat_minor": 2
}
