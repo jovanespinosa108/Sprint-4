{
 "cells": [
  {
   "cell_type": "markdown",
   "metadata": {},
   "source": [
    "Introducción\n",
    "A la hora de usar lenguajes de programación para trabajar con datos, hay un verdadero superpoder: la capacidad de modificar y crear columnas sobre la marcha. En el machine learning, al proceso de crear nuevas columnas mediante las columnas originales en el conjunto de datos se le llama ingeniería de características. La ingeniería de características brinda nuevas soluciones en el análisis y modelado de datos, pues simplifica los problemas al hacer los datos más adecuados.\n",
    "\n",
    "En este capítulo, volverás al dataset de ventas de videojuegos que viste antes en el sprint. Utilizando este dataset, aprenderás:\n",
    "\n",
    "- Varias formas de crear nuevas columnas a partir de los datos existentes.\n",
    "- Como escribir tus propias funciones.\n",
    "- Como usar el método apply() para crear columnas nuevas con base en criterios complejos de procesamiento que no se pueden cumplir con las funciones existentes de pandas.\n",
    "\n",
    "Te llevará entre 1.5 y 2 horas de trabajo diligente. ¡Empecemos!"
   ]
  }
 ],
 "metadata": {
  "language_info": {
   "name": "python"
  }
 },
 "nbformat": 4,
 "nbformat_minor": 2
}
