{
 "cells": [
  {
   "cell_type": "markdown",
   "metadata": {},
   "source": [
    "Correlación\n",
    "A menudo, el principal objeto del análisis de datos es mostrar la relación entre dos variables. Por ejemplo, podemos querer determinar cómo se relaciona el precio de un apartamento con su tamaño. ¿Afecta a su valor la distancia desde el centro? ¿Qué impacto tiene el año de construcción o el nivel de ruido que tiene el barrio? Los gráficos de dispersión nos ayudan a responder estas preguntas, ya que nos proporcionan una representación visual de estas relaciones.\n",
    "\n",
    "A la tendencia de una variable a cambiar en relación con el cambio en otra variable se le llama correlación.\n",
    "\n",
    "Los gráficos de dispersión que hicimos en la última lección muestran que la altura y el peso se correlacionan positivamente. Esto tiene sentido porque un aumento en uno generalmente significa un aumento en el otro. Un ejemplo de correlación negativa sería la altura y el tono de voz; generalmente, cuanto más alta sea una persona, menor será la frecuencia de su voz.\n",
    "\n",
    "Coeficiente de correlación\n",
    "\n",
    "Una cosa es mirar el gráfico, pero también necesitamos una forma numérica para describir la correlación.\n",
    "\n",
    "Para cuantificar cómo una variable tiende a cambiar cuando la otra variable cambia, utilizamos el coeficiente de correlación de Pearson, conocida comúnmente como el coeficiente de correlación. Este coeficiente puede tomar cualquier valor entre -1 y 1.\n",
    "\n",
    "Un valor de -1 representa una correlación lineal negativa perfecta, mientras que un valor de 1 representa una correlación lineal positiva perfecta. En general, el coeficiente de correlación funciona de este modo:\n",
    "\n",
    "- Si uno de los valores incrementa junto con el otro, el coeficiente de correlación es positivo.\n",
    "- Si uno permanece igual mientras el otro cambia, el coeficiente es 0.\n",
    "- Si uno se reduce mientras el otro incrementa, el coeficiente es negativo.\n",
    "\n",
    "Cuanto más cerca esté el coeficiente de -1 o 1, más fuerte será la correlación. Por otro lado, un valor de 0 puede significar que no hay correlación o que hay una conexión no lineal compleja que el coeficiente no puede reflejar.\n"
   ]
  },
  {
   "cell_type": "markdown",
   "metadata": {},
   "source": [
    "Calcular el coeficiente de correlación\n",
    "\n",
    "En pandas, puedes calcular el coeficiente de correlación de Pearson usando el método corr(). Para hacerlo, aplícalo a la columna con la primera variable, y pasa la columna con la segunda variable como un parámetro. No importa el orden de las variables. Por ejemplo:"
   ]
  },
  {
   "cell_type": "code",
   "execution_count": null,
   "metadata": {},
   "outputs": [],
   "source": [
    "import pandas as pd\n",
    "from matplotlib import pyplot as plt\n",
    "\n",
    "df = pd.read_csv('/datasets/height_weight.csv')\n",
    "\n",
    "print(df['height'].corr(df['weight']))\n",
    "\n",
    "#0.9165261045538688"
   ]
  },
  {
   "cell_type": "markdown",
   "metadata": {},
   "source": [
    "Con un coeficiente de alrededor de 0.9, la altura y el peso tienen una fuerte correlación positiva en este conjunto de datos. Esto coincide con nuestro \"sentido común\" de que las personas más altas tienden a pesar más. Por supuesto, hay variación en esta tendencia, por lo que no esperaríamos un coeficiente de correlación positivo perfecto de 1.\n",
    "\n",
    "Puede ser tentador hacer una declaración como \"la altura de una persona determina su peso\". Sin embargo, por sí sola, la correlación no puede decirnos nada sobre causa y efecto; solo sabemos que los dos factores están correlacionados. Para probar (o refutar) la causa y efecto, necesitaríamos realizar experimentos controlados. Recuerda, correlación no implica causalidad.\n",
    "\n",
    "Por ahora, vamos a practicar el cálculo de coeficientes de correlación para otros pares de variables en nuestro conjunto de datos."
   ]
  },
  {
   "cell_type": "markdown",
   "metadata": {},
   "source": [
    "Ejercicios\n",
    "\n",
    "Ejercicio 1\n",
    "\n",
    "¿Recuerdas el gráfico de dispersión que hiciste en la última lección para las columnas 'height' y 'age'? Ahora vas a calcular el coeficiente de correlación de Pearson para aquellas columnas y asigna el resultado a una variable llamada ah_corr. Después muéstralo. ¿El resultado se alinea con el gráfico de dispersión?"
   ]
  },
  {
   "cell_type": "code",
   "execution_count": null,
   "metadata": {},
   "outputs": [],
   "source": [
    "import pandas as pd\n",
    "\n",
    "df = pd.read_csv('/datasets/height_weight.csv')\n",
    "\n",
    "ah_corr = df['height'].corr(df['age'])# escribe tu código aquí\n",
    "\n",
    "print(ah_corr)\n",
    "\n",
    "#0.010042046516844344"
   ]
  },
  {
   "cell_type": "markdown",
   "metadata": {},
   "source": [
    "Ejercicio 2\n",
    "\n",
    "Intenta llamar al método corr() en todo el DataFrame. Para ello, sigue el mismo proceso que antes, pero no pases ninguna variable al DataFrame df o al método corr(). ¿Qué pasa? Imprime el resultado."
   ]
  },
  {
   "cell_type": "code",
   "execution_count": null,
   "metadata": {},
   "outputs": [],
   "source": [
    "import pandas as pd\n",
    "\n",
    "df = pd.read_csv('/datasets/height_weight.csv')\n",
    "\n",
    "print(df.corr())# escribe tu código aquí\n",
    "\n",
    "\"\"\"\n",
    "          height    weight       age      male\n",
    "height  1.000000  0.916526  0.010042  0.760690\n",
    "weight  0.916526  1.000000  0.228538  0.785218\n",
    "age     0.010042  0.228538  1.000000  0.004750\n",
    "male    0.760690  0.785218  0.004750  1.000000\"\"\""
   ]
  }
 ],
 "metadata": {
  "kernelspec": {
   "display_name": "Python 3",
   "language": "python",
   "name": "python3"
  },
  "language_info": {
   "name": "python",
   "version": "3.12.0"
  }
 },
 "nbformat": 4,
 "nbformat_minor": 2
}
