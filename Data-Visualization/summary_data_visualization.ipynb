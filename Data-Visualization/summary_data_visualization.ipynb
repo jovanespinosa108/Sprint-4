{
 "cells": [
  {
   "cell_type": "markdown",
   "metadata": {},
   "source": [
    "Summary\n",
    "\n",
    "- plot(): método de pandas que prepara la imagen con los datos.\n",
    "\n",
    "- show(): función de la librería pyplot de Matplotlib que presenta la imagen al usuario.\n",
    "\n",
    "- savefig(): función de Matplotlib que almacena la gráfica como un archivo de imagen.\n",
    "\n",
    "- title=: parámetro para establecer el título del gráfico.\n",
    "\n",
    "- style=: parámetro para cambiar el estilo de marcador del gráfico.\n",
    "\n",
    "- x= y y=: parámetros para trazar dos columnas, una frente a la otra.\n",
    "\n",
    "- xlabel= y ylabel=: parámetros para establecer las etiquetas de los ejes.\n",
    "\n",
    "- xlim= y ylim=: parámetros para establecer los límites de los ejes.\n",
    "\n",
    "- grid=: parámetro para agregar líneas de cuadrícula.\n",
    "\n",
    "- figsize=: parámetro para agregar el tamaño de la gráfica.\n",
    "\n",
    "- legend=: parámetro para agregar o eliminar la leyenda.\n",
    "\n",
    "- sort_values(): ordena los datos por la columna que se pasó.\n",
    "\n",
    "- style='o': crea un gráfico de dispersión marcando explícitamente cada punto de datos con un círculo.\n",
    "\n",
    "- kind='scatter': crea un gráfico de dispersión usando el método predeterminado plot.\n",
    "\n",
    "- alpha= establece la transparencia de los puntos en el gráfico al valor especificado."
   ]
  },
  {
   "cell_type": "markdown",
   "metadata": {},
   "source": []
  }
 ],
 "metadata": {
  "language_info": {
   "name": "python"
  }
 },
 "nbformat": 4,
 "nbformat_minor": 2
}
