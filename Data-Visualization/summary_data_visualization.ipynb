{
 "cells": [
  {
   "cell_type": "markdown",
   "metadata": {},
   "source": [
    "Summary\n",
    "\n",
    "- plot(): método de pandas que prepara la imagen con los datos.\n",
    "- show(): función de la librería pyplot de Matplotlib que presenta la imagen al usuario.\n",
    "- savefig(): función de Matplotlib que almacena la gráfica como un archivo de imagen.\n",
    "- title=: parámetro para establecer el título del gráfico.\n",
    "- style=: parámetro para cambiar el estilo de marcador del gráfico.\n",
    "- x= y y=: parámetros para trazar dos columnas, una frente a la otra.\n",
    "- xlabel= y ylabel=: parámetros para establecer las etiquetas de los ejes.\n",
    "- xlim= y ylim=: parámetros para establecer los límites de los ejes.\n",
    "- grid=: parámetro para agregar líneas de cuadrícula.\n",
    "- figsize=: parámetro para agregar el tamaño de la gráfica.\n",
    "- legend=: parámetro para agregar o eliminar la leyenda."
   ]
  }
 ],
 "metadata": {
  "language_info": {
   "name": "python"
  }
 },
 "nbformat": 4,
 "nbformat_minor": 2
}
