{
 "cells": [
  {
   "cell_type": "markdown",
   "metadata": {},
   "source": [
    "Para empezar, vamos a trabajar con una versión reducida del conjunto de datos de ventas minoristas online (materiales en inglés) del repositorio de machine learning de UCI:\n",
    "\n",
    "Este es un conjunto de datos transnacional que contiene todas las transacciones que tuvieron lugar entre el 12/01/2010 y el 12/09/2011 en una tienda de ventas minoristas online con sede y registro en el Reino Unido. La compañía vende principalmente regalos únicos para cualquier ocasión. Gran parte de la clientela se dedica a las ventas mayoristas.\n",
    "\n",
    "Información de atributos\n",
    "\n",
    "InvoiceNo\tNúmero de factura. Categórico/nominal, un número entero de 6 dígitos único asignado a cada transacción. Si este código comienza con la letra 'c', significa que hubo una cancelación.\n",
    "\n",
    "StockCode\tCódigo de producto (artículo). Categórico/nominal, un número de 5 dígitos único asignado a cada producto.\n",
    "Description\tNombre del producto (artículo). Categórico/nominal.\n",
    "Quantity\tLa cantidad de cada producto (artículo) por transacción. Numérico.\n",
    "\n",
    "InvoiceDate\tFecha y hora de la factura. Numérico, el día y la hora en la que se generó cada transacción.\n",
    "\n",
    "UnitPrice\tPrecio unitario. Numérico, precio por unidad de cada producto en libras esterlinas.\n",
    "\n",
    "CustomerID\tNúmero de cliente. Categórico/nominal, un número de 5 dígitos único asignado a cada cliente.\n",
    "\n",
    "Country\tNombre del país. Categórico/nominal, el nombre del país donde reside cada cliente.\n",
    "Intentemos entender los datos que contiene este conjunto de datos.\n",
    "\n",
    "Primero, vamos a cargar el conjunto de datos y mostrar las primeras líneas:"
   ]
  },
  {
   "cell_type": "code",
   "execution_count": null,
   "metadata": {},
   "outputs": [],
   "source": [
    "import pandas as pd\n",
    "\n",
    "\n",
    "df = pd.read_csv('/datasets/OnlineRetail.csv')\n",
    "print(df.head())\n",
    "\n",
    "\"\"\"InvoiceNo StockCode                          Description  Quantity  \\\n",
    "0    536520     21123  SET/10 IVORY POLKADOT PARTY CANDLES       1.0   \n",
    "1    536520     21124   SET/10 BLUE POLKADOT PARTY CANDLES       1.0   \n",
    "2    536520     21122   SET/10 PINK POLKADOT PARTY CANDLES       1.0   \n",
    "3    536520     84378        SET OF 3 HEART COOKIE CUTTERS       1.0   \n",
    "4    536520     21985    PACK OF 12 HEARTS DESIGN TISSUES       12.0   \n",
    "\n",
    "            InvoiceDate UnitPrice  CustomerID         Country  \n",
    "0  2010-12-01T12:43:00Z      1.25     14729.0  United Kingdom  \n",
    "1  2010-12-01T12:43:00Z      1.25     14729.0  United Kingdom  \n",
    "2  2010-12-01T12:43:00Z      1.25     14729.0  United Kingdom  \n",
    "3  2010-12-01T12:43:00Z      1.25     14729.0  United Kingdom  \n",
    "4  2010-12-01T12:43:00Z      0.29     14729.0  United Kingdom\"\"\""
   ]
  },
  {
   "cell_type": "markdown",
   "metadata": {},
   "source": [
    "Pregunta\n",
    "\n",
    "Con base en la salida anterior, ¿qué tipo de datos esperarías de las columnas 'StockCode' 'Description' y 'UnitPrice'?\n",
    "\n",
    "'StockCode'\n",
    "datatype int\n",
    "\n",
    "'Description'\n",
    "datatype string\n",
    "\n",
    "'UnitPrice'\n",
    "datatype float\n",
    "\n",
    "\n",
    "Enviar\n",
    "\n",
    "Parece bastante claro que 'StockCode', 'Description' y 'UnitPrice' deberían contener valores de entero, string y flotante, respectivamente. Sin embargo, como dice el dicho, las apariencias engañan.\n",
    "\n",
    "Vamos a explorar los datos un poco más. Empezaremos por mostrar los valores mínimo y máximo de la columna 'StockCode':\n",
    "\n"
   ]
  },
  {
   "cell_type": "code",
   "execution_count": null,
   "metadata": {},
   "outputs": [],
   "source": [
    "import pandas as pd\n",
    "\n",
    "df = pd.read_csv('/datasets/OnlineRetail.csv')\n",
    "print(df['StockCode'].min(), df['StockCode'].max())\n",
    "\n",
    "#10002 m"
   ]
  },
  {
   "cell_type": "markdown",
   "metadata": {},
   "source": [
    "Al mostrar las primeras filas, parece que 'StockCode' tiene un tipo de datos entero. Sin embargo, ahora vemos que su valor máximo es 'm', el cual, definitivamente, no es un entero.\n",
    "\n",
    "De hecho, la columna representa valores de ID, algunos de los cuales parecen enteros. Si miras otros valores en la columna, encontrarás algunos como '82494L', '84029G', '35004G' y otros.\n",
    "\n",
    "Después, quizá te hagas la siguiente pregunta: si 'StockCode' contiene valores de string, ¿cómo es posible que al llamar min() y max() se devuelvan valores en lugar de arrojar un error?\n",
    "\n",
    "Python es perfectamente capaz de comparar valores de string utilizando los operadores > y <. Sin embargo, las reglas para comparar strings son distintas de aquellas para comparar números. El comportamiento de un operador depende de los tipos de datos y sus operandos.\n",
    "\n",
    "Dado los valores inesperados en la columna 'StockCode', probablemente será mejor que retrocedamos un poco y obtengamos más información sobre el conjunto de datos. Vamos a utilizar el método info() para hacerlo."
   ]
  },
  {
   "cell_type": "code",
   "execution_count": null,
   "metadata": {},
   "outputs": [],
   "source": [
    "import pandas as pd\n",
    "\n",
    "df = pd.read_csv('/datasets/OnlineRetail.csv')\n",
    "\n",
    "print(df.info())\n",
    "\n",
    "\"\"\"Resultado\n",
    "<class 'pandas.core.frame.DataFrame'>\n",
    "RangeIndex: 50000 entries, 0 to 49999\n",
    "Data columns (total 8 columns):\n",
    " #   Column       Non-Null Count  Dtype  \n",
    "---  ------       --------------  -----  \n",
    " 0   InvoiceNo    50000 non-null  object \n",
    " 1   StockCode    50000 non-null  object \n",
    " 2   Description  49857 non-null  object \n",
    " 3   Quantity     50000 non-null  float64\n",
    " 4   InvoiceDate  50000 non-null  object \n",
    " 5   UnitPrice    50000 non-null  object \n",
    " 6   CustomerID   31599 non-null  float64\n",
    " 7   Country      50000 non-null  object \n",
    "dtypes: float64(2), object(6)\n",
    "memory usage: 3.1+ MB\n",
    "None\"\"\""
   ]
  },
  {
   "cell_type": "markdown",
   "metadata": {},
   "source": [
    "Esto, en definitiva, confirma que 'StockCode' no es un entero.\n",
    "\n",
    "Aún más, nos gustaría señalar dos cosas más sobre los tipos de datos de nuestras columnas:\n",
    "\n",
    "La columna 'Quantity' tiene un tipo de datos float64 en lugar de int64, incluso si se espera que los productos se vendan en cantidades parciales. Esto puede suceder si hay valores ausentes tal como NaN, que es un tipo de datos float, lo cual obliga a los enteros a convertirse también en flotantes. No es el caso de 'Quantity', ya que no tiene ningún valor ausente. Sin embargo, es importante destacar que convertir enteros en flotantes es una herramienta bastante común de los sistemas de exportación de datos, tal como convertir archivos de Excel a formato CSV.\n",
    "\n",
    "La columna 'UnitPrice' tiene el tipo de datos object en vez de float64.\n",
    "En la próxima lección, aprenderemos a lidiar con estas dos cosas (por ejemplo, convertir la columna 'Quantity' de float64 a int64 e identificar por qué pandas no logró detectar el tipo de datos correcto para la columna 'UnitPrice').\n",
    "\n",
    "Las claves de esta lección son:\n",
    "\n",
    "Al leer datos, no debemos asumir que Python asigna los tipos de datos que esperamos.\n",
    "Siempre es buena idea llamar a info() en tu DataFrame antes de lanzarte a hacer cálculos y modificaciones. Haz de esto una rutina."
   ]
  }
 ],
 "metadata": {
  "language_info": {
   "name": "python"
  }
 },
 "nbformat": 4,
 "nbformat_minor": 2
}
