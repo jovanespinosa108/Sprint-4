{
 "cells": [
  {
   "cell_type": "markdown",
   "metadata": {},
   "source": [
    "Trabajar con atributos datetime y zonas horarias\n",
    "\n",
    "Acceder a los atributos de columna datetime usando .dt\n",
    "Ya que pandas se basa en tipos de datos que son nativos de Python (así como algunos de distintas librerías), los tipos de datos pueden volverse un poco complicados a veces.\n",
    "\n",
    "Recuerda que en pandas, los objetos datetime están representados por el tipo de datos TimeStamp. Para obtener, por ejemplo, el atributo year del primer valor Timestamp de la columna 'InvoiceDate', utiliza el siguiente código:"
   ]
  },
  {
   "cell_type": "code",
   "execution_count": null,
   "metadata": {},
   "outputs": [],
   "source": [
    "import pandas as pd\n",
    "\n",
    "df = pd.read_csv('/datasets/OnlineRetail.csv')\n",
    "\n",
    "# convierte 'InvoiceDate' a datetime\n",
    "df['InvoiceDate'] = pd.to_datetime(df['InvoiceDate'], format='%Y-%m-%dT%H:%M:%SZ')\n",
    "\n",
    "print(df['InvoiceDate'][0].year) # devuelve el año del primer InvoiceDate\n",
    "\n",
    "#2010"
   ]
  },
  {
   "cell_type": "markdown",
   "metadata": {},
   "source": [
    "Si bien podemos acceder a todos los atributos de los valores individuales de Timestamp de esta manera, no podemos hacerlo para valores de Series Timestamp. Mira lo que ocurre cuando intentamos obtener el atributo day para la columna 'InvoiceDate' entera:"
   ]
  },
  {
   "cell_type": "code",
   "execution_count": null,
   "metadata": {},
   "outputs": [],
   "source": [
    "import pandas as pd\n",
    "\n",
    "df = pd.read_csv('OnlineRetail.csv')\n",
    "df['InvoiceDate'] = pd.to_datetime(df['InvoiceDate'], format='%Y-%m-%dT%H:%M:%SZ')\n",
    "df['day'] = df['InvoiceDate'].day\n",
    "\n",
    "\"\"\"---------------------------------------------------------------------------\n",
    "AttributeError                            Traceback (most recent call last)\n",
    "...\n",
    "...\n",
    "...\n",
    "AttributeError: 'Series' object has no attribute 'day'\"\"\""
   ]
  },
  {
   "cell_type": "markdown",
   "metadata": {},
   "source": [
    "Obtenemos un error porque df['InvoiceDate'] es un objeto Series, el cual no tiene un atributo day, a pesar de que sí lo tienen los valores individuales Timestamp dentro de Series.\n",
    "\n",
    "Para obtener atributos para todas las columnas de datos datetime, usa en su lugar el objeto accesor .dt.\n",
    "\n",
    "Por ejemplo, podemos crear un DataFrame 'df_days' que contenga el atributo day para cada valor en la columna 'InvoiceDate':"
   ]
  },
  {
   "cell_type": "code",
   "execution_count": null,
   "metadata": {},
   "outputs": [],
   "source": [
    "import pandas as pd \n",
    "\n",
    "df = pd.read_csv('/datasets/OnlineRetail.csv')\n",
    "df['InvoiceDate'] = pd.to_datetime(df['InvoiceDate'], format='%Y-%m-%dT%H:%M:%SZ')\n",
    "\n",
    "df_days = df['InvoiceDate'].dt.day\n",
    "print(df_days.sample(5, random_state=42))\n",
    "\n",
    "\"\"\"\n",
    "33553    17\n",
    "9427      6\n",
    "199       1\n",
    "12447     6\n",
    "39489    21\n",
    "Name: InvoiceDate, dtype: int64\"\"\""
   ]
  },
  {
   "cell_type": "markdown",
   "metadata": {},
   "source": [
    "¡Ningún error esta vez! Recuerda que si quieres accesar los atributos de toda una columna de datos datetime, debes usar el accesor .dt de la columna datetime y no la propia columna.\n",
    "\n",
    "Existen muchos más atributos datetime (materiales en inglés) disponibles en pandas, así que utiliza los que necesites para el problema en cuestión."
   ]
  },
  {
   "cell_type": "markdown",
   "metadata": {},
   "source": [
    "Trabajar con husos horarios\n",
    "\n",
    "Hay algunos escenarios comunes que tienen que ver con las zonas horarias que te encontrarás al trabajar con datos datetime.\n",
    "\n",
    "Tus datos pueden venir de diferentes zonas geográficas en donde cada ubicación registra estos datos usando su hora local. O puede que estés trabajando con valores datetime registrados en una zona horaria, pero necesites presentar los resultados de tu análisis a un público que esté en otra.\n",
    "\n",
    "En cualquier caso, debes saber cómo convertir entre distintas zonas horarias sin confundirte. Es ahí donde nos son útiles .dt.tz_localize() y .dt.tz_convert(). El primero te permite asignar una zona horaria a una columna datetime para que tus datos \"tengan conocimiento\" de su zona horaria. El segundo te permite convertir una columna \"con conocimiento de su zona horaria\" en una zona horaria distinta.\n",
    "\n",
    "Veamos cómo funciona en la práctica. Vamos a asignar el huso horario UTC a la columna 'InvoiceDate':"
   ]
  },
  {
   "cell_type": "code",
   "execution_count": null,
   "metadata": {},
   "outputs": [],
   "source": [
    "import pandas as pd \n",
    "\n",
    "df = pd.read_csv('/datasets/OnlineRetail.csv')\n",
    "df['InvoiceDate'] = pd.to_datetime(df['InvoiceDate'], format='%Y-%m-%dT%H:%M:%SZ')\n",
    "\n",
    "df['InvoiceDate'] = df['InvoiceDate'].dt.tz_localize('UTC')\n",
    "\n",
    "print(df['InvoiceDate'].sample(5, random_state=42))\n",
    "\n",
    "\"\"\"\n",
    "33553   2010-12-17 12:38:00+00:00\n",
    "9427    2010-12-06 09:58:00+00:00\n",
    "199     2010-12-01 13:21:00+00:00\n",
    "12447   2010-12-06 16:57:00+00:00\n",
    "39489   2010-12-21 15:19:00+00:00\n",
    "Name: InvoiceDate, dtype: datetime64[ns, UTC]\"\"\""
   ]
  },
  {
   "cell_type": "markdown",
   "metadata": {},
   "source": [
    "¿Notaste que ahora el dtype de la columna contiene información sobre el huso horario UTC?\n",
    "\n",
    "¿Qué pasaría si necesitáramos mostrar datos a alguien en Nueva York que prefiere ver los valores datetime en su hora local?\n",
    "\n",
    "En este caso, pasaremos 'America/New_York' al método .dt.tz_convert():"
   ]
  },
  {
   "cell_type": "code",
   "execution_count": null,
   "metadata": {},
   "outputs": [],
   "source": [
    "import pandas as pd \n",
    "\n",
    "df = pd.read_csv('OnlineRetail.csv')\n",
    "df['InvoiceDate'] = pd.to_datetime(df['InvoiceDate'], format='%Y-%m-%dT%H:%M:%SZ')\n",
    "\n",
    "df['InvoiceDate'] = df['InvoiceDate'].dt.tz_localize('UTC')\n",
    "\n",
    "df['InvoiceDate_NYC'] = df['InvoiceDate'].dt.tz_convert('America/New_York')\n",
    "\n",
    "print(df['InvoiceDate_NYC'].sample(5, random_state=42))\n",
    "\n",
    "\"\"\"\n",
    "33553   2010-12-17 07:38:00-05:00\n",
    "9427    2010-12-06 04:58:00-05:00\n",
    "199     2010-12-01 08:21:00-05:00\n",
    "12447   2010-12-06 11:57:00-05:00\n",
    "39489   2010-12-21 10:19:00-05:00\n",
    "Name: InvoiceDate_NYC, dtype: datetime64[ns, America/New_York]\"\"\""
   ]
  },
  {
   "cell_type": "markdown",
   "metadata": {},
   "source": [
    "Ahora vemos dos cosas:\n",
    "\n",
    "El dtype de la nueva columna 'InvoiceDate_NYC' ahora contiene la información America/New_York en vez de UTC.\n",
    "\n",
    "Los valores datetime son diferentes. Difieren por 5 horas exactamente porque Nueva York, como en la mayor parte de Norteamérica, tiene el horario estándar del este (UTC-5) durante el invierno y el horario de verano del este (UTC-4) el resto del año.\n",
    "\n",
    "Este artículo de Wikipedia (materiales en inglés) contiene una lista con los nombres de cada zona horaria estándar que puedes usar con .dt.tz_convert()."
   ]
  },
  {
   "cell_type": "markdown",
   "metadata": {},
   "source": [
    "1.\n",
    "\n",
    "Crea una variable dt_months con el mes de la columna 'timestamp' de la tabla position. Utiliza el accesor .dt con el atributo month para extraer el número del mes.\n",
    "\n",
    "Muestra las primeras cinco filas de la tabla dt_months usando el método head()"
   ]
  },
  {
   "cell_type": "code",
   "execution_count": null,
   "metadata": {},
   "outputs": [],
   "source": [
    "import pandas as pd\n",
    "\n",
    "position = pd.read_csv('/datasets/position.csv')\n",
    "position['timestamp'] = pd.to_datetime(position['timestamp'], format='%Y-%m-%dT%H:%M:%S')\n",
    "\n",
    "dt_months = position['timestamp'].dt.month\n",
    "\n",
    "print(dt_months.head(5))# escribe tu código aquí\n",
    "\n",
    "\"\"\"\n",
    "0    2\n",
    "1    2\n",
    "2    2\n",
    "3    2\n",
    "4    2\n",
    "Name: timestamp, dtype: int64\"\"\""
   ]
  },
  {
   "cell_type": "markdown",
   "metadata": {},
   "source": [
    "2.\n",
    "\n",
    "Usando la columna 'timestamp', crea un nuevo DataFrame llamado 'dt_toronto' que contenga todos los datetimes que se ubican en la zona horaria 'America/Toronto'. Muestra las primeras 5 filas de tu resultado."
   ]
  },
  {
   "cell_type": "code",
   "execution_count": null,
   "metadata": {},
   "outputs": [],
   "source": [
    "import pandas as pd\n",
    "\n",
    "position = pd.read_csv('/datasets/position.csv')\n",
    "position['timestamp'] = pd.to_datetime(position['timestamp'], format='%Y-%m-%dT%H:%M:%S')\n",
    "\n",
    "dt_toronto = position['timestamp'].dt.tz_localize('America/Toronto')\n",
    "\n",
    "print(dt_toronto.head(5))# escribe tu código aquí\n",
    "\n",
    "\"\"\"\n",
    "0   2019-02-04 13:22:34-05:00\n",
    "1   2019-02-06 15:30:54-05:00\n",
    "2   2019-02-08 14:53:45-05:00\n",
    "3   2019-02-10 16:50:22-05:00\n",
    "4   2019-02-12 14:16:28-05:00\n",
    "Name: timestamp, dtype: datetime64[ns, America/Toronto]\"\"\""
   ]
  },
  {
   "cell_type": "markdown",
   "metadata": {},
   "source": [
    "3.\n",
    "\n",
    "Usa el nuevo DataFrame 'dt_toronto', convierte los datetime a la zona horaria 'Australia/Brisbane' y guarda el resultado en la nueva variable llamada 'dt_brisbane'. Muestra las primeras cinco filas."
   ]
  },
  {
   "cell_type": "code",
   "execution_count": null,
   "metadata": {},
   "outputs": [],
   "source": [
    "import pandas as pd\n",
    "\n",
    "position = pd.read_csv('/datasets/position.csv')\n",
    "position['timestamp'] = pd.to_datetime(position['timestamp'], format='%Y-%m-%dT%H:%M:%S')\n",
    "dt_toronto = position['timestamp'].dt.tz_localize('America/Toronto')\n",
    "\n",
    "dt_brisbane = dt_toronto.dt.tz_convert('Australia/Brisbane') \n",
    "\n",
    "print(dt_brisbane.head(5)) #escribe tu código aquí\n",
    "\n",
    "\"\"\"Resultado\n",
    "0   2019-02-05 04:22:34+10:00\n",
    "1   2019-02-07 06:30:54+10:00\n",
    "2   2019-02-09 05:53:45+10:00\n",
    "3   2019-02-11 07:50:22+10:00\n",
    "4   2019-02-13 05:16:28+10:00\n",
    "Name: timestamp, dtype: datetime64[ns, Australia/Brisbane]\"\"\""
   ]
  }
 ],
 "metadata": {
  "kernelspec": {
   "display_name": "Python 3",
   "language": "python",
   "name": "python3"
  },
  "language_info": {
   "name": "python",
   "version": "3.12.0"
  }
 },
 "nbformat": 4,
 "nbformat_minor": 2
}
