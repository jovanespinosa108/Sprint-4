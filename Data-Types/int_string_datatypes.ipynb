{
 "cells": [
  {
   "cell_type": "markdown",
   "metadata": {},
   "source": [
    "Trabajar con tipos de datos numéricos y de string\n",
    "\n",
    "Strings y números en pandas\n",
    "\n",
    "Cuando pandas lee datos de un archivo de texto, automáticamente convierte los datos sin procesar al tipo de datos pandas.\n",
    "\n",
    "Por lo general, la conversión es directa: una columna que contenga solo números en tu CSV o Excel se leerá en automático como un tipo de datos float o int. Si una columna solo contiene palabras, se lee como un tipo de datos object. Pandas utiliza este tipo de datos para datos string, así como también cuando una columna contiene una mezcla de tipo de datos entre sus valores.\n",
    "\n",
    "A veces, pandas no puede inferir el tipo de datos correcto. Cuando esto pasa, necesitamos intervenir y convertir por nuestra cuenta los valores al tipo correcto.\n",
    "\n",
    "Otras veces, pandas hará exactamente aquello para lo que fue diseñado, pero eso podría no ser lo que queremos.\n",
    "\n",
    "En esta lección, aprenderás a lidiar con estas situaciones.\n",
    "\n",
    "Convertir a un tipo de datos específico\n",
    "El método astype() de pandas te permite moldear (o convertir) tipos de datos.\n",
    "\n",
    "Al igual que con otros métodos de pandas, existe para DataFrames y Series.\n",
    "\n",
    "Vamos a ilustrar cómo funciona usando un par de ejemplos con juguetes.\n",
    "\n",
    "Abajo, vamos a crear un DataFrame sencillo de dos columnas a partir de un diccionario de Python. Las claves del diccionario se usarán como nombres de columna en el DataFrame. Luego, mostraremos la información sobre los tipos de datos de las columnas:"
   ]
  },
  {
   "cell_type": "code",
   "execution_count": null,
   "metadata": {},
   "outputs": [
    {
     "name": "stdout",
     "output_type": "stream",
     "text": [
      "   col1  col2\n",
      "0   1.0     3\n",
      "1   2.0     4\n",
      "\n",
      "Output of df.info():\n",
      "<class 'pandas.core.frame.DataFrame'>\n",
      "RangeIndex: 2 entries, 0 to 1\n",
      "Data columns (total 2 columns):\n",
      " #   Column  Non-Null Count  Dtype  \n",
      "---  ------  --------------  -----  \n",
      " 0   col1    2 non-null      float64\n",
      " 1   col2    2 non-null      int64  \n",
      "dtypes: float64(1), int64(1)\n",
      "memory usage: 164.0 bytes\n"
     ]
    }
   ],
   "source": [
    "import pandas as pd\n",
    "\n",
    "d = {'col1': [1.0, 2.0], 'col2': [3, 4]}\n",
    "df = pd.DataFrame(data=d)\n",
    "\n",
    "print(df)\n",
    "print()\n",
    "print('Output of df.info():')\n",
    "df.info()"
   ]
  },
  {
   "cell_type": "markdown",
   "metadata": {},
   "source": [
    "Ahora, usemos el método astype() para convertir todos los valores en strings y mostrar el DataFrame.\n",
    "\n",
    "Al usarlo, debes especificar entre paréntesis el tipo de datos al cual deseas convertirlo. Por ejemplo, df['column'] = df['column'].astype('int') convertiría la columna 'column' al tipo de datos entero.\n",
    "\n",
    "Ten en cuenta que no todos los tipos de datos se pueden convertir entre sí usando astype().  Cualquier operación de conversión que pudiese alterar significativamente los datos originales debe hacerse con cuidado."
   ]
  },
  {
   "cell_type": "code",
   "execution_count": 3,
   "metadata": {},
   "outputs": [
    {
     "name": "stdout",
     "output_type": "stream",
     "text": [
      "  col1 col2\n",
      "0  1.0    3\n",
      "1  2.0    4\n",
      "\n",
      "<class 'pandas.core.frame.DataFrame'>\n",
      "RangeIndex: 2 entries, 0 to 1\n",
      "Data columns (total 2 columns):\n",
      " #   Column  Non-Null Count  Dtype \n",
      "---  ------  --------------  ----- \n",
      " 0   col1    2 non-null      object\n",
      " 1   col2    2 non-null      object\n",
      "dtypes: object(2)\n",
      "memory usage: 164.0+ bytes\n",
      "None\n"
     ]
    }
   ],
   "source": [
    "import pandas as pd\n",
    "\n",
    "d = {'col1': [1.0, 2.0], 'col2': [3, 4]}\n",
    "df = pd.DataFrame(data=d)\n",
    "\n",
    "df_str_dtype = df.astype('str')\n",
    "print(df_str_dtype)\n",
    "print()\n",
    "print(df_str_dtype.info())"
   ]
  },
  {
   "cell_type": "markdown",
   "metadata": {},
   "source": [
    "Podemos ver que, aunque no ha cambiado lo que muestra el DataFrame, ¡sí cambió la información sobre los tipos de datos!\n",
    "\n",
    "También podemos usar el método astype() en columnas individuales (p. ej., objetos tipo Series). Hagamos que 'col1' sea del tipo de datos int en vez de float."
   ]
  },
  {
   "cell_type": "code",
   "execution_count": 8,
   "metadata": {},
   "outputs": [
    {
     "name": "stdout",
     "output_type": "stream",
     "text": [
      "   col1  col2\n",
      "0     1     3\n",
      "1     2     4\n"
     ]
    }
   ],
   "source": [
    "df['col1'] = df['col1'].astype('int')\n",
    "print(df)\n"
   ]
  },
  {
   "cell_type": "markdown",
   "metadata": {},
   "source": [
    "Esta vez, en lugar del método info(), echemos un vistazo al atributo dtypes. ¿Lo recuerdas?\n",
    "\n",
    "Las columnas en un DataFrame pueden tener diferentes tipos de datos, o dtypes."
   ]
  },
  {
   "cell_type": "code",
   "execution_count": 7,
   "metadata": {},
   "outputs": [
    {
     "name": "stdout",
     "output_type": "stream",
     "text": [
      "col1    int32\n",
      "col2    int64\n",
      "dtype: object\n"
     ]
    }
   ],
   "source": [
    "print(df.dtypes)"
   ]
  },
  {
   "cell_type": "markdown",
   "metadata": {},
   "source": [
    "Así como así, hemos cambiado con éxito el tipo de datos de una sola columna. Fíjate que el 64 en int64 se refiere al tamaño de bits de los enteros en la memoria de la computadora. También puedes ver otros tipos de enteros como int32, int16 y otros. Básicamente, el tipo de 64 puede contener muchos más dígitos que los de menos bits, pero todos se comportan de forma idéntica a los tipos de datos int.\n",
    "\n",
    "Cuidado con los problemas inesperados\n",
    "\n",
    "Digamos que cargas un conjunto de datos y parece que todos los valores flotantes en una columna en realidad deben ser enteros, pero hay demasiados para analizarlos manualmente. ¿Cómo sabes que es seguro hacer la conversión de float a int o si perderás algo de información tras hacerlo?\n",
    "\n",
    "Para ilustrar esto, mira el siguiente ejemplo."
   ]
  },
  {
   "cell_type": "code",
   "execution_count": 9,
   "metadata": {},
   "outputs": [
    {
     "name": "stdout",
     "output_type": "stream",
     "text": [
      "   col1  col2\n",
      "0   1.0  5.00\n",
      "1   2.0  6.01\n",
      "2   3.0  7.00\n",
      "3   4.0  8.00\n"
     ]
    }
   ],
   "source": [
    "import pandas as pd\n",
    "\n",
    "d = {'col1': [1.0, 2.0, 3.0, 4.0], 'col2': [5.0, 6.01, 7.0, 8.0]}\n",
    "df = pd.DataFrame(data=d)\n",
    "\n",
    "print(df)"
   ]
  },
  {
   "cell_type": "markdown",
   "metadata": {},
   "source": [
    "Si no tienes cuidado, ejecutarás df.astype('int') (que cambiará 6.01 a 6) sin darte cuenta de que acabas de cambiar los valores de tu conjunto de datos.\n",
    "\n",
    "Vamos a usar una nueva librería que nos ayude a lidiar con estos casos.\n",
    "\n",
    "NumPy es una poderosa librería de Python usada para computación científica. Esta introduce una nueva estructura de datos llamada array, que es parecido a una lista, pero con muchas ventajas, incluyendo la habilidad para realizar operaciones vectorizadas en arrays enteros muy rápidamente. NumPy también nos proporciona funciones matemáticas y herramientas que nos son útiles para trabajar con arrays, tales como ordenar, indexar y transmitir.\n",
    "\n",
    "Cuando estás tratando con cientos o miles (¡o más!) valores, puedes recurrir a la ayuda de la función array_equal() de la librería numpy. Esta función acepta dos arrays y devuelve True si ambos tienen los mismos elementos y la misma forma, y False si es el caso contrario. Vamos a probarla con 'col1':"
   ]
  },
  {
   "cell_type": "code",
   "execution_count": 10,
   "metadata": {},
   "outputs": [
    {
     "data": {
      "text/plain": [
       "True"
      ]
     },
     "execution_count": 10,
     "metadata": {},
     "output_type": "execute_result"
    }
   ],
   "source": [
    "import numpy as np\n",
    "import pandas as pd\n",
    "\n",
    "d = {'col1': [1.0, 2.0, 3.0, 4.0], 'col2': [5.0, 6.01, 7.0, 8.0]}\n",
    "df = pd.DataFrame(data=d)\n",
    "\n",
    "# comprueba si es seguro convertir 'col1'\n",
    "np.array_equal(df['col1'], df['col1'].astype('int'))"
   ]
  },
  {
   "cell_type": "markdown",
   "metadata": {},
   "source": [
    "¡Excelente! No hubo ningún problema. Ahora prueba con 'col2':"
   ]
  },
  {
   "cell_type": "code",
   "execution_count": 11,
   "metadata": {},
   "outputs": [
    {
     "data": {
      "text/plain": [
       "False"
      ]
     },
     "execution_count": 11,
     "metadata": {},
     "output_type": "execute_result"
    }
   ],
   "source": [
    "import numpy as np\n",
    "import pandas as pd\n",
    "\n",
    "d = {'col1': [1.0, 2.0, 3.0, 4.0], 'col2': [5.0, 6.01, 7.0, 8.0]}\n",
    "df = pd.DataFrame(data=d)\n",
    "\n",
    "# comprueba si es seguro convertir 'col1'\n",
    "np.array_equal(df['col2'], df['col2'].astype('int'))"
   ]
  },
  {
   "cell_type": "markdown",
   "metadata": {},
   "source": [
    "Ahora sabemos que no podemos convertir 'col2' de float a int sin perder algunos de los datos.\n",
    "\n",
    "Hay otros ejemplos de posibles problemas al considerar la conversión de tipos de datos, pero el meollo del asunto es:\n",
    "\n",
    "Ten cuidado al convertir entre tipos de datos, y evalúa si la operación de conversión podría llevar a cambios significativos en tus datos.\n",
    "\n",
    "Convertir strings a valores numéricos\n",
    "\n",
    "A veces queremos conservar los valores del string que parecen números como tipos de datos string. Los códigos postales o los ID numéricos son ejemplos comunes: son números, pero no tiene sentido realizar operaciones aritméticas con ellos.\n",
    "\n",
    "Sin embargo, read_csv() siempre leerá todo lo que parezca un entero como un tipo de datos int, incluso si quieres usarlos como strings.\n",
    "\n",
    "Otras veces, pasa lo contrario: pandas confunde los valores numéricos con strings y necesitamos intervenir un poco para hacer la conversión.\n",
    "\n",
    "En los casos más sencillos, el método astype() funciona de maravilla. A continuación, te mostramos cómo convertir strings que representan enteros en enteros reales:"
   ]
  },
  {
   "cell_type": "code",
   "execution_count": 12,
   "metadata": {},
   "outputs": [
    {
     "name": "stdout",
     "output_type": "stream",
     "text": [
      "col1    object\n",
      "col2     int32\n",
      "dtype: object\n"
     ]
    }
   ],
   "source": [
    "import pandas as pd\n",
    "\n",
    "d = {'col1': ['1.0', '2.0'], 'col2': ['3', '4']}\n",
    "df = pd.DataFrame(data=d)\n",
    "\n",
    "# convertir col2 a int\n",
    "df['col2'] = df['col2'].astype('int')\n",
    "print(df.dtypes)"
   ]
  },
  {
   "cell_type": "markdown",
   "metadata": {},
   "source": [
    "En otros casos, no se puede convertir los strings en números de esta forma. Mira lo que sucede cuando intentamos convertir strings que representan valores flotantes en enteros:"
   ]
  },
  {
   "cell_type": "code",
   "execution_count": 13,
   "metadata": {},
   "outputs": [
    {
     "ename": "ValueError",
     "evalue": "invalid literal for int() with base 10: '1.0'",
     "output_type": "error",
     "traceback": [
      "\u001b[1;31m---------------------------------------------------------------------------\u001b[0m",
      "\u001b[1;31mValueError\u001b[0m                                Traceback (most recent call last)",
      "Cell \u001b[1;32mIn[13], line 7\u001b[0m\n\u001b[0;32m      4\u001b[0m df \u001b[38;5;241m=\u001b[39m pd\u001b[38;5;241m.\u001b[39mDataFrame(data\u001b[38;5;241m=\u001b[39md)\n\u001b[0;32m      6\u001b[0m \u001b[38;5;66;03m# convertir col1 da como resultado un error\u001b[39;00m\n\u001b[1;32m----> 7\u001b[0m df[\u001b[38;5;124m'\u001b[39m\u001b[38;5;124mcol1\u001b[39m\u001b[38;5;124m'\u001b[39m] \u001b[38;5;241m=\u001b[39m \u001b[43mdf\u001b[49m\u001b[43m[\u001b[49m\u001b[38;5;124;43m'\u001b[39;49m\u001b[38;5;124;43mcol1\u001b[39;49m\u001b[38;5;124;43m'\u001b[39;49m\u001b[43m]\u001b[49m\u001b[38;5;241;43m.\u001b[39;49m\u001b[43mastype\u001b[49m\u001b[43m(\u001b[49m\u001b[38;5;124;43m'\u001b[39;49m\u001b[38;5;124;43mint\u001b[39;49m\u001b[38;5;124;43m'\u001b[39;49m\u001b[43m)\u001b[49m\n",
      "File \u001b[1;32mc:\\Users\\jovan\\AppData\\Local\\Programs\\Python\\Python312\\Lib\\site-packages\\pandas\\core\\generic.py:6643\u001b[0m, in \u001b[0;36mNDFrame.astype\u001b[1;34m(self, dtype, copy, errors)\u001b[0m\n\u001b[0;32m   6637\u001b[0m     results \u001b[38;5;241m=\u001b[39m [\n\u001b[0;32m   6638\u001b[0m         ser\u001b[38;5;241m.\u001b[39mastype(dtype, copy\u001b[38;5;241m=\u001b[39mcopy, errors\u001b[38;5;241m=\u001b[39merrors) \u001b[38;5;28;01mfor\u001b[39;00m _, ser \u001b[38;5;129;01min\u001b[39;00m \u001b[38;5;28mself\u001b[39m\u001b[38;5;241m.\u001b[39mitems()\n\u001b[0;32m   6639\u001b[0m     ]\n\u001b[0;32m   6641\u001b[0m \u001b[38;5;28;01melse\u001b[39;00m:\n\u001b[0;32m   6642\u001b[0m     \u001b[38;5;66;03m# else, only a single dtype is given\u001b[39;00m\n\u001b[1;32m-> 6643\u001b[0m     new_data \u001b[38;5;241m=\u001b[39m \u001b[38;5;28;43mself\u001b[39;49m\u001b[38;5;241;43m.\u001b[39;49m\u001b[43m_mgr\u001b[49m\u001b[38;5;241;43m.\u001b[39;49m\u001b[43mastype\u001b[49m\u001b[43m(\u001b[49m\u001b[43mdtype\u001b[49m\u001b[38;5;241;43m=\u001b[39;49m\u001b[43mdtype\u001b[49m\u001b[43m,\u001b[49m\u001b[43m \u001b[49m\u001b[43mcopy\u001b[49m\u001b[38;5;241;43m=\u001b[39;49m\u001b[43mcopy\u001b[49m\u001b[43m,\u001b[49m\u001b[43m \u001b[49m\u001b[43merrors\u001b[49m\u001b[38;5;241;43m=\u001b[39;49m\u001b[43merrors\u001b[49m\u001b[43m)\u001b[49m\n\u001b[0;32m   6644\u001b[0m     res \u001b[38;5;241m=\u001b[39m \u001b[38;5;28mself\u001b[39m\u001b[38;5;241m.\u001b[39m_constructor_from_mgr(new_data, axes\u001b[38;5;241m=\u001b[39mnew_data\u001b[38;5;241m.\u001b[39maxes)\n\u001b[0;32m   6645\u001b[0m     \u001b[38;5;28;01mreturn\u001b[39;00m res\u001b[38;5;241m.\u001b[39m__finalize__(\u001b[38;5;28mself\u001b[39m, method\u001b[38;5;241m=\u001b[39m\u001b[38;5;124m\"\u001b[39m\u001b[38;5;124mastype\u001b[39m\u001b[38;5;124m\"\u001b[39m)\n",
      "File \u001b[1;32mc:\\Users\\jovan\\AppData\\Local\\Programs\\Python\\Python312\\Lib\\site-packages\\pandas\\core\\internals\\managers.py:430\u001b[0m, in \u001b[0;36mBaseBlockManager.astype\u001b[1;34m(self, dtype, copy, errors)\u001b[0m\n\u001b[0;32m    427\u001b[0m \u001b[38;5;28;01melif\u001b[39;00m using_copy_on_write():\n\u001b[0;32m    428\u001b[0m     copy \u001b[38;5;241m=\u001b[39m \u001b[38;5;28;01mFalse\u001b[39;00m\n\u001b[1;32m--> 430\u001b[0m \u001b[38;5;28;01mreturn\u001b[39;00m \u001b[38;5;28;43mself\u001b[39;49m\u001b[38;5;241;43m.\u001b[39;49m\u001b[43mapply\u001b[49m\u001b[43m(\u001b[49m\n\u001b[0;32m    431\u001b[0m \u001b[43m    \u001b[49m\u001b[38;5;124;43m\"\u001b[39;49m\u001b[38;5;124;43mastype\u001b[39;49m\u001b[38;5;124;43m\"\u001b[39;49m\u001b[43m,\u001b[49m\n\u001b[0;32m    432\u001b[0m \u001b[43m    \u001b[49m\u001b[43mdtype\u001b[49m\u001b[38;5;241;43m=\u001b[39;49m\u001b[43mdtype\u001b[49m\u001b[43m,\u001b[49m\n\u001b[0;32m    433\u001b[0m \u001b[43m    \u001b[49m\u001b[43mcopy\u001b[49m\u001b[38;5;241;43m=\u001b[39;49m\u001b[43mcopy\u001b[49m\u001b[43m,\u001b[49m\n\u001b[0;32m    434\u001b[0m \u001b[43m    \u001b[49m\u001b[43merrors\u001b[49m\u001b[38;5;241;43m=\u001b[39;49m\u001b[43merrors\u001b[49m\u001b[43m,\u001b[49m\n\u001b[0;32m    435\u001b[0m \u001b[43m    \u001b[49m\u001b[43musing_cow\u001b[49m\u001b[38;5;241;43m=\u001b[39;49m\u001b[43musing_copy_on_write\u001b[49m\u001b[43m(\u001b[49m\u001b[43m)\u001b[49m\u001b[43m,\u001b[49m\n\u001b[0;32m    436\u001b[0m \u001b[43m\u001b[49m\u001b[43m)\u001b[49m\n",
      "File \u001b[1;32mc:\\Users\\jovan\\AppData\\Local\\Programs\\Python\\Python312\\Lib\\site-packages\\pandas\\core\\internals\\managers.py:363\u001b[0m, in \u001b[0;36mBaseBlockManager.apply\u001b[1;34m(self, f, align_keys, **kwargs)\u001b[0m\n\u001b[0;32m    361\u001b[0m         applied \u001b[38;5;241m=\u001b[39m b\u001b[38;5;241m.\u001b[39mapply(f, \u001b[38;5;241m*\u001b[39m\u001b[38;5;241m*\u001b[39mkwargs)\n\u001b[0;32m    362\u001b[0m     \u001b[38;5;28;01melse\u001b[39;00m:\n\u001b[1;32m--> 363\u001b[0m         applied \u001b[38;5;241m=\u001b[39m \u001b[38;5;28;43mgetattr\u001b[39;49m\u001b[43m(\u001b[49m\u001b[43mb\u001b[49m\u001b[43m,\u001b[49m\u001b[43m \u001b[49m\u001b[43mf\u001b[49m\u001b[43m)\u001b[49m\u001b[43m(\u001b[49m\u001b[38;5;241;43m*\u001b[39;49m\u001b[38;5;241;43m*\u001b[39;49m\u001b[43mkwargs\u001b[49m\u001b[43m)\u001b[49m\n\u001b[0;32m    364\u001b[0m     result_blocks \u001b[38;5;241m=\u001b[39m extend_blocks(applied, result_blocks)\n\u001b[0;32m    366\u001b[0m out \u001b[38;5;241m=\u001b[39m \u001b[38;5;28mtype\u001b[39m(\u001b[38;5;28mself\u001b[39m)\u001b[38;5;241m.\u001b[39mfrom_blocks(result_blocks, \u001b[38;5;28mself\u001b[39m\u001b[38;5;241m.\u001b[39maxes)\n",
      "File \u001b[1;32mc:\\Users\\jovan\\AppData\\Local\\Programs\\Python\\Python312\\Lib\\site-packages\\pandas\\core\\internals\\blocks.py:758\u001b[0m, in \u001b[0;36mBlock.astype\u001b[1;34m(self, dtype, copy, errors, using_cow, squeeze)\u001b[0m\n\u001b[0;32m    755\u001b[0m         \u001b[38;5;28;01mraise\u001b[39;00m \u001b[38;5;167;01mValueError\u001b[39;00m(\u001b[38;5;124m\"\u001b[39m\u001b[38;5;124mCan not squeeze with more than one column.\u001b[39m\u001b[38;5;124m\"\u001b[39m)\n\u001b[0;32m    756\u001b[0m     values \u001b[38;5;241m=\u001b[39m values[\u001b[38;5;241m0\u001b[39m, :]  \u001b[38;5;66;03m# type: ignore[call-overload]\u001b[39;00m\n\u001b[1;32m--> 758\u001b[0m new_values \u001b[38;5;241m=\u001b[39m \u001b[43mastype_array_safe\u001b[49m\u001b[43m(\u001b[49m\u001b[43mvalues\u001b[49m\u001b[43m,\u001b[49m\u001b[43m \u001b[49m\u001b[43mdtype\u001b[49m\u001b[43m,\u001b[49m\u001b[43m \u001b[49m\u001b[43mcopy\u001b[49m\u001b[38;5;241;43m=\u001b[39;49m\u001b[43mcopy\u001b[49m\u001b[43m,\u001b[49m\u001b[43m \u001b[49m\u001b[43merrors\u001b[49m\u001b[38;5;241;43m=\u001b[39;49m\u001b[43merrors\u001b[49m\u001b[43m)\u001b[49m\n\u001b[0;32m    760\u001b[0m new_values \u001b[38;5;241m=\u001b[39m maybe_coerce_values(new_values)\n\u001b[0;32m    762\u001b[0m refs \u001b[38;5;241m=\u001b[39m \u001b[38;5;28;01mNone\u001b[39;00m\n",
      "File \u001b[1;32mc:\\Users\\jovan\\AppData\\Local\\Programs\\Python\\Python312\\Lib\\site-packages\\pandas\\core\\dtypes\\astype.py:237\u001b[0m, in \u001b[0;36mastype_array_safe\u001b[1;34m(values, dtype, copy, errors)\u001b[0m\n\u001b[0;32m    234\u001b[0m     dtype \u001b[38;5;241m=\u001b[39m dtype\u001b[38;5;241m.\u001b[39mnumpy_dtype\n\u001b[0;32m    236\u001b[0m \u001b[38;5;28;01mtry\u001b[39;00m:\n\u001b[1;32m--> 237\u001b[0m     new_values \u001b[38;5;241m=\u001b[39m \u001b[43mastype_array\u001b[49m\u001b[43m(\u001b[49m\u001b[43mvalues\u001b[49m\u001b[43m,\u001b[49m\u001b[43m \u001b[49m\u001b[43mdtype\u001b[49m\u001b[43m,\u001b[49m\u001b[43m \u001b[49m\u001b[43mcopy\u001b[49m\u001b[38;5;241;43m=\u001b[39;49m\u001b[43mcopy\u001b[49m\u001b[43m)\u001b[49m\n\u001b[0;32m    238\u001b[0m \u001b[38;5;28;01mexcept\u001b[39;00m (\u001b[38;5;167;01mValueError\u001b[39;00m, \u001b[38;5;167;01mTypeError\u001b[39;00m):\n\u001b[0;32m    239\u001b[0m     \u001b[38;5;66;03m# e.g. _astype_nansafe can fail on object-dtype of strings\u001b[39;00m\n\u001b[0;32m    240\u001b[0m     \u001b[38;5;66;03m#  trying to convert to float\u001b[39;00m\n\u001b[0;32m    241\u001b[0m     \u001b[38;5;28;01mif\u001b[39;00m errors \u001b[38;5;241m==\u001b[39m \u001b[38;5;124m\"\u001b[39m\u001b[38;5;124mignore\u001b[39m\u001b[38;5;124m\"\u001b[39m:\n",
      "File \u001b[1;32mc:\\Users\\jovan\\AppData\\Local\\Programs\\Python\\Python312\\Lib\\site-packages\\pandas\\core\\dtypes\\astype.py:182\u001b[0m, in \u001b[0;36mastype_array\u001b[1;34m(values, dtype, copy)\u001b[0m\n\u001b[0;32m    179\u001b[0m     values \u001b[38;5;241m=\u001b[39m values\u001b[38;5;241m.\u001b[39mastype(dtype, copy\u001b[38;5;241m=\u001b[39mcopy)\n\u001b[0;32m    181\u001b[0m \u001b[38;5;28;01melse\u001b[39;00m:\n\u001b[1;32m--> 182\u001b[0m     values \u001b[38;5;241m=\u001b[39m \u001b[43m_astype_nansafe\u001b[49m\u001b[43m(\u001b[49m\u001b[43mvalues\u001b[49m\u001b[43m,\u001b[49m\u001b[43m \u001b[49m\u001b[43mdtype\u001b[49m\u001b[43m,\u001b[49m\u001b[43m \u001b[49m\u001b[43mcopy\u001b[49m\u001b[38;5;241;43m=\u001b[39;49m\u001b[43mcopy\u001b[49m\u001b[43m)\u001b[49m\n\u001b[0;32m    184\u001b[0m \u001b[38;5;66;03m# in pandas we don't store numpy str dtypes, so convert to object\u001b[39;00m\n\u001b[0;32m    185\u001b[0m \u001b[38;5;28;01mif\u001b[39;00m \u001b[38;5;28misinstance\u001b[39m(dtype, np\u001b[38;5;241m.\u001b[39mdtype) \u001b[38;5;129;01mand\u001b[39;00m \u001b[38;5;28missubclass\u001b[39m(values\u001b[38;5;241m.\u001b[39mdtype\u001b[38;5;241m.\u001b[39mtype, \u001b[38;5;28mstr\u001b[39m):\n",
      "File \u001b[1;32mc:\\Users\\jovan\\AppData\\Local\\Programs\\Python\\Python312\\Lib\\site-packages\\pandas\\core\\dtypes\\astype.py:133\u001b[0m, in \u001b[0;36m_astype_nansafe\u001b[1;34m(arr, dtype, copy, skipna)\u001b[0m\n\u001b[0;32m    129\u001b[0m     \u001b[38;5;28;01mraise\u001b[39;00m \u001b[38;5;167;01mValueError\u001b[39;00m(msg)\n\u001b[0;32m    131\u001b[0m \u001b[38;5;28;01mif\u001b[39;00m copy \u001b[38;5;129;01mor\u001b[39;00m arr\u001b[38;5;241m.\u001b[39mdtype \u001b[38;5;241m==\u001b[39m \u001b[38;5;28mobject\u001b[39m \u001b[38;5;129;01mor\u001b[39;00m dtype \u001b[38;5;241m==\u001b[39m \u001b[38;5;28mobject\u001b[39m:\n\u001b[0;32m    132\u001b[0m     \u001b[38;5;66;03m# Explicit copy, or required since NumPy can't view from / to object.\u001b[39;00m\n\u001b[1;32m--> 133\u001b[0m     \u001b[38;5;28;01mreturn\u001b[39;00m \u001b[43marr\u001b[49m\u001b[38;5;241;43m.\u001b[39;49m\u001b[43mastype\u001b[49m\u001b[43m(\u001b[49m\u001b[43mdtype\u001b[49m\u001b[43m,\u001b[49m\u001b[43m \u001b[49m\u001b[43mcopy\u001b[49m\u001b[38;5;241;43m=\u001b[39;49m\u001b[38;5;28;43;01mTrue\u001b[39;49;00m\u001b[43m)\u001b[49m\n\u001b[0;32m    135\u001b[0m \u001b[38;5;28;01mreturn\u001b[39;00m arr\u001b[38;5;241m.\u001b[39mastype(dtype, copy\u001b[38;5;241m=\u001b[39mcopy)\n",
      "\u001b[1;31mValueError\u001b[0m: invalid literal for int() with base 10: '1.0'"
     ]
    }
   ],
   "source": [
    "import pandas as pd\n",
    "\n",
    "d = {'col1': ['1.0', '2.0'], 'col2': ['3', '4']}\n",
    "df = pd.DataFrame(data=d)\n",
    "\n",
    "# convertir col1 da como resultado un error\n",
    "df['col1'] = df['col1'].astype('int')"
   ]
  },
  {
   "cell_type": "markdown",
   "metadata": {},
   "source": [
    "Para solventar este problema, usaremos un método más flexible llamado to_numeric():"
   ]
  },
  {
   "cell_type": "code",
   "execution_count": 14,
   "metadata": {},
   "outputs": [
    {
     "name": "stdout",
     "output_type": "stream",
     "text": [
      "col1    float64\n",
      "col2      int32\n",
      "dtype: object\n"
     ]
    }
   ],
   "source": [
    "import pandas as pd\n",
    "\n",
    "d = {'col1': ['1.0', '2.0'], 'col2': ['3', '4']}\n",
    "df = pd.DataFrame(data=d)\n",
    "\n",
    "df['col2'] = df['col2'].astype('int')\n",
    "df['col1'] = pd.to_numeric(df['col1'])\n",
    "print(df.dtypes)"
   ]
  },
  {
   "cell_type": "markdown",
   "metadata": {},
   "source": [
    "Funciona muy bien si tienes strings similares a números como '72' o '1.394'. No obstante, de forma predeterminada, to_numeric() no puede convertir strings con caracteres no numéricos o decimales en números. En cambio, devuelve un error.\n",
    "\n",
    "Aunque hay una buena noticia: ¡to_numeric() tiene un parámetro errors=! El valor de este parámetro determina qué hará to_numeric() si encuentra un valor no válido:\n",
    "\n",
    "- errors='raise': argumento predeterminado por el cual los valores inválidos generan errores, bloqueando la conversión a números para toda la columna.\n",
    "- errors='coerce': los valores inválidos se reemplazan por NaN.\n",
    "- errors='ignore': los valores inválidos simplemente se ignoran y se dejan sin cambios.\n",
    "\n",
    "Así es como se ve:"
   ]
  },
  {
   "cell_type": "code",
   "execution_count": 15,
   "metadata": {},
   "outputs": [
    {
     "name": "stdout",
     "output_type": "stream",
     "text": [
      "col1    float64\n",
      "col2      int32\n",
      "dtype: object\n",
      "   col1  col2\n",
      "0   1.0     3\n",
      "1   NaN     4\n"
     ]
    }
   ],
   "source": [
    "import pandas as pd\n",
    "\n",
    "d = {'col1': ['1.0', 'B.0'], 'col2': ['3', '4']}\n",
    "df = pd.DataFrame(data=d)\n",
    "\n",
    "df['col2'] = df['col2'].astype('int')\n",
    "df['col1'] = pd.to_numeric(df['col1'], errors='coerce')\n",
    "\n",
    "print(df.dtypes)\n",
    "print(df)"
   ]
  },
  {
   "cell_type": "markdown",
   "metadata": {},
   "source": [
    "Resumen\n",
    "\n",
    "Usa astype() para convertir un tipo de datos en otro.\n",
    "\n",
    "- No todos los tipos de datos se pueden convertir entre sí usando astype(); algunas conversiones (como strings tipo float a enteros) podrían arrojar un error.\n",
    "\n",
    "- Ten cuidado cuando hagas conversiones que pudieran alterar significativamente los datos originales.\n",
    "\n",
    "- Al convertir los strings en números, el método to_numeric() podría ser mejor opción gracias a la flexibilidad que le brinda el parámetro errors=."
   ]
  },
  {
   "cell_type": "markdown",
   "metadata": {},
   "source": [
    "1.\n",
    "\n",
    "Usa numpy para comprobar si no hay problema con convertir la columna 'Quantity' de float a int sin modificar los valores. Muestra la expresión que evalúa si es True o False."
   ]
  },
  {
   "cell_type": "code",
   "execution_count": null,
   "metadata": {},
   "outputs": [],
   "source": [
    "import pandas as pd\n",
    "import numpy as np\n",
    "\n",
    "df = pd.read_csv('/datasets/OnlineRetail.csv')\n",
    "\n",
    "can_convert = np.array_equal(df['Quantity'], df['Quantity'].astype('int'))# escribe tu código aquí\n",
    "\n",
    "print(can_convert)\n",
    "\n",
    "#True"
   ]
  },
  {
   "cell_type": "markdown",
   "metadata": {},
   "source": [
    "2.\n",
    "\n",
    "Ahora realiza la operación de conversión utilizando el método astype(). Convierte la columna 'Quantity' de float a int, después verifica los resultados llamando el método info() en el DataFrame."
   ]
  },
  {
   "cell_type": "code",
   "execution_count": null,
   "metadata": {},
   "outputs": [],
   "source": [
    "import pandas as pd\n",
    "import numpy as np\n",
    "\n",
    "df = pd.read_csv('/datasets/OnlineRetail.csv')\n",
    "\n",
    "df['Quantity'] = df['Quantity'].astype('int')# escribe tu código aquí\n",
    "df.info()# escribe tu código aquí\n",
    "\n",
    "\"\"\"<class 'pandas.core.frame.DataFrame'>\n",
    "RangeIndex: 50000 entries, 0 to 49999\n",
    "Data columns (total 8 columns):\n",
    " #   Column       Non-Null Count  Dtype\n",
    "---  ------       --------------  -----\n",
    " 0   InvoiceNo    50000 non-null  object\n",
    " 1   StockCode    50000 non-null  object\n",
    " 2   Description  49857 non-null  object\n",
    " 3   Quantity     50000 non-null  int64\n",
    " 4   InvoiceDate  50000 non-null  object\n",
    " 5   UnitPrice    50000 non-null  object\n",
    " 6   CustomerID   31599 non-null  float64\n",
    " 7   Country      50000 non-null  object\n",
    "dtypes: float64(1), int64(1), object(6)\n",
    "memory usage: 3.1+ MB\"\"\""
   ]
  },
  {
   "cell_type": "markdown",
   "metadata": {},
   "source": [
    "3.\n",
    "\n",
    "- Convierte la columna 'UnitPrice' de object a float\n",
    "\n",
    " a. Usa la función to_numeric().\n",
    "\n",
    " b. Usa el parámetro errors= que remplaza valores inválidos con NaN.\n",
    "\n",
    "- Verifica los resultados llamando al método info() en el DataFrame."
   ]
  },
  {
   "cell_type": "code",
   "execution_count": null,
   "metadata": {},
   "outputs": [],
   "source": [
    "import pandas as pd\n",
    "\n",
    "df = pd.read_csv('/datasets/OnlineRetail.csv')\n",
    "\n",
    "df['UnitPrice'] = pd.to_numeric(df[\"UnitPrice\"], errors='coerce')\n",
    "# escribe tu código aquí\n",
    "df.info()# escribe tu código aquí\n",
    "\n",
    "\"\"\"<class 'pandas.core.frame.DataFrame'>\n",
    "RangeIndex: 50000 entries, 0 to 49999\n",
    "Data columns (total 8 columns):\n",
    " #   Column       Non-Null Count  Dtype\n",
    "---  ------       --------------  -----\n",
    " 0   InvoiceNo    50000 non-null  object\n",
    " 1   StockCode    50000 non-null  object\n",
    " 2   Description  49857 non-null  object\n",
    " 3   Quantity     50000 non-null  float64\n",
    " 4   InvoiceDate  50000 non-null  object\n",
    " 5   UnitPrice    49985 non-null  float64\n",
    " 6   CustomerID   31599 non-null  float64\n",
    " 7   Country      50000 non-null  object\n",
    "dtypes: float64(3), object(5)\n",
    "memory usage: 3.1+ MB\"\"\""
   ]
  }
 ],
 "metadata": {
  "kernelspec": {
   "display_name": "Python 3",
   "language": "python",
   "name": "python3"
  },
  "language_info": {
   "codemirror_mode": {
    "name": "ipython",
    "version": 3
   },
   "file_extension": ".py",
   "mimetype": "text/x-python",
   "name": "python",
   "nbconvert_exporter": "python",
   "pygments_lexer": "ipython3",
   "version": "3.12.0"
  }
 },
 "nbformat": 4,
 "nbformat_minor": 2
}
