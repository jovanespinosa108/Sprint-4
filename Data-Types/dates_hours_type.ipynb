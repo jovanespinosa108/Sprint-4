{
 "cells": [
  {
   "cell_type": "markdown",
   "metadata": {},
   "source": [
    "Trabajar con fechas y horas\n",
    "La librería pandas es útil para mucho más que solo convertir strings y números. También puede manejar datos de fecha y horas.\n",
    "\n",
    "En esta lección, te mostraremos cómo sacarle el mayor provecho. Echa un vistazo al siguiente video y después vuelve aquí para aprender todo sobre esto.\n",
    "\n",
    "En el mundo se usan muchos formatos diferentes de fecha. Por ejemplo, se prefiere el orden día/mes/año en muchos países, de modo que el 8 de marzo de 2010 se escribe 08/03/2010. Sin embargo, en Estados Unidos se usa principalmente el formato mes/día/año, así que 08/03/2010 sería el 3 de agosto.\n",
    "\n",
    "\n",
    "\n",
    "Excel puede comprender ambos formatos, pero tiene límites. Cuando cargas datos desde una base de datos, puede que tengas valores como 2019-08-03Z17:25:00 y 03, Aug 19, 5:25 PM en el mismo archivo, y definitivamente Excel no podrá desenredar la madeja.\n",
    "\n",
    "Así que, cuando quieras asegurarte de que tus fechas y horas se hayan almacenado correctamente, o quieras hacer cálculos con ellas, deberás usar el formato datetime de Python.\n",
    "\n",
    "Convertir a datetime\n",
    "Imagina que en nuestro conjunto de datos OnlineRetail.csv, el sitio web de la compañía no puede procesar algunas solicitudes de compra en horas pico.\n",
    "\n",
    "El equipo de infraestructura de la compañía puede configurar un proceso automatizado para agregar más servidores web virtualizados justo a tiempo para procesar más solicitudes. Solo necesitan a alguien que les diga cuáles son las horas pico.\n",
    "\n",
    "Veamos si podemos ayudar.\n",
    "\n",
    "Cargaremos de nuevo el conjunto de datos y mostraremos algunas filas aleatorias."
   ]
  },
  {
   "cell_type": "code",
   "execution_count": null,
   "metadata": {},
   "outputs": [],
   "source": [
    "import pandas as pd \n",
    "\n",
    "df = pd.read_csv('/datasets/OnlineRetail.csv')\n",
    "print(df.head())\n",
    "\n",
    "\"\"\"InvoiceNo StockCode                          Description  Quantity  \\\n",
    "0    536520     21123  SET/10 IVORY POLKADOT PARTY CANDLES       1.0\n",
    "1    536520     21124   SET/10 BLUE POLKADOT PARTY CANDLES       1.0\n",
    "2    536520     21122   SET/10 PINK POLKADOT PARTY CANDLES       1.0\n",
    "3    536520     84378        SET OF 3 HEART COOKIE CUTTERS       1.0\n",
    "4    536520     21985    PACK OF 12 HEARTS DESIGN TISSUES       12.0\n",
    "\n",
    "            InvoiceDate UnitPrice  CustomerID         Country\n",
    "0  2010-12-01T12:43:00Z      1.25     14729.0  United Kingdom\n",
    "1  2010-12-01T12:43:00Z      1.25     14729.0  United Kingdom\n",
    "2  2010-12-01T12:43:00Z      1.25     14729.0  United Kingdom\n",
    "3  2010-12-01T12:43:00Z      1.25     14729.0  United Kingdom\n",
    "4  2010-12-01T12:43:00Z      0.29     14729.0  United Kingdom\"\"\""
   ]
  },
  {
   "cell_type": "markdown",
   "metadata": {},
   "source": [
    "La columna 'InvoiceDate' contiene la fecha y hora de cuando se emitió la factura del pedido.\n",
    "\n",
    "De las lecciones anteriores, sabemos que la columna 'InvoiceDate' tiene el tipo de datos object.\n",
    "\n",
    "Vamos a corroborar esto mirando el atributo dtype:"
   ]
  },
  {
   "cell_type": "code",
   "execution_count": null,
   "metadata": {},
   "outputs": [],
   "source": [
    "print(df['InvoiceDate'].dtype)\n",
    "\n",
    "#object"
   ]
  },
  {
   "cell_type": "markdown",
   "metadata": {},
   "source": [
    "Por ahora, 'InvoiceDate' almacena sus valores como un tipo string. Sin embargo, si queremos hacer cualquier tipo de operación de fecha u hora con esos valores, necesitamos convertirlos al tipo datetime. Esto lo podemos lograr con el método to_datetime() de pandas.\n",
    "\n",
    "Formatear valores datetime\n",
    "\n",
    "El método to_datetime() se usa para convertir fechas de un tipo de datos string al tipo de datos datetime. Al llamar al método, debemos usar el parámetro format=, el cual toma un string especificando cómo se formatean las fechas. Los códigos de formato señalados por el símbolo % se utilizan para especificar el formato.\n",
    "\n",
    "Por ejemplo, podemos convertir el string 2010-12-17T12:38:00Z (un formato ISO 8601) a objeto datetime pasando el string de formato correcto al parámetro format=: %Y-%m-%dT%H:%M:%SZ."
   ]
  },
  {
   "cell_type": "code",
   "execution_count": 1,
   "metadata": {},
   "outputs": [
    {
     "name": "stdout",
     "output_type": "stream",
     "text": [
      "<class 'str'>\n",
      "<class 'pandas._libs.tslibs.timestamps.Timestamp'>\n",
      "2010-12-17 12:38:00\n"
     ]
    },
    {
     "data": {
      "text/plain": [
       "\"<class 'str'>\\n<class 'pandas._libs.tslibs.timestamps.Timestamp'>\\n2010-12-17 12:38:00\""
      ]
     },
     "execution_count": 1,
     "metadata": {},
     "output_type": "execute_result"
    }
   ],
   "source": [
    "import pandas as pd\n",
    "\n",
    "string_date = '2010-12-17T12:38:00Z'\n",
    "datetime_date = pd.to_datetime(string_date, format='%Y-%m-%dT%H:%M:%SZ')\n",
    "\n",
    "print(type(string_date))\n",
    "print(type(datetime_date))\n",
    "print(datetime_date)\n"
   ]
  },
  {
   "cell_type": "markdown",
   "metadata": {},
   "source": [
    "Después de llamar to_datetime() con nuestra fecha basada en strings y el string de formato, podemos tener ahora un objeto con el tipo de datos Timestamps. El tipo Timestamp de pandas es equivalente al tipo datetime de Python, así que usaremos el término \"datetime\" para referirnos a ambas.\n",
    "\n",
    "Observa que el formato del objeto datetime es distinto al del string original: 2010-12-17T12:38:00Z. En el objeto datetime, tenemos YYYY-MM-DD HH:MM:SS: 2010-12-17 12:38:00. Sin importar cómo se formateó el string original, el tipo datetime tendrá este formato uniforme."
   ]
  },
  {
   "cell_type": "markdown",
   "metadata": {},
   "source": [
    "Cómo funcionan los códigos de formato\n",
    "\n",
    "¿Cómo sabíamos que el patrón de código para '2010-12-17T12:38:00Z' debía ser '%Y-%m-%dT%H:%M:%SZ'? Porque el código representa una generalización del string. Cada elemento de fecha y hora se convierte en un símbolo que le dice a pandas cómo interpretarlo.\n",
    "\n",
    "Por ejemplo, %Y al inicio del patrón especifica que el valor de año ocurre en la ubicación de los strings en 'InvoiceDate'. Los guiones, dos puntos y letras T y Z  en el string datetime se reproducen en el patrón de formato: \"primero el año, luego un guion, el mes, luego otro guion, etc.\".\n",
    "\n",
    "Hay muchos símbolos de formato, pero solamente unos cuantos los usarás con regularidad. Por ejemplo:\n",
    "\n",
    "- %d: día del mes (01 a 31).\n",
    "- %m: mes (01 a 12).\n",
    "- %Y: año en cuatro dígitos (2019).\n",
    "- %y: año en dos dígitos (19).\n",
    "- %H: hora en formato de 24 horas.\n",
    "- %I: hora en formato de 12 horas.\n",
    "- %M: minutos (00 a 59).\n",
    "- %S: segundos (00 a 59).\n",
    "\n",
    "Aquí https://docs.python.org/3/library/datetime.html#strftime-and-strptime-behavior (materiales en inglés) podrás encontrar una lista completa de todos los símbolos de formato datetime.\n",
    "\n",
    "Práctica\n",
    "\n",
    "¡Vamos a hacer la prueba! Te daremos datetimes como strings y tú escribirás el string de formato correspondiente que debes usar para el argumento format= en to_datetime().\n",
    "\n",
    "Supón que estamos usando un horario de 24 horas.\n",
    "\n",
    "Pregunta\n",
    "\n",
    "'20-12-2002Z04:31:00'\n",
    "\n",
    "r - '%d-%m-%YZ%H:%M:%S'\n",
    "\n",
    "¡Buen trabajo! ¡Has aprobado el cuestionario con honores! ¡Sigue con el buen trabajo!\n",
    "\n",
    "¡Excelente trabajo!\n",
    "\n",
    "Pregunta\n",
    "\n",
    "'5/13/13 12:04:00', ten cuidado, la fecha está en formato de los EE. UU.\n",
    "\n",
    "r - '%m/%d/%y %H:%M:%S'\n",
    "\n",
    "¡Buen trabajo! ¡Has aprobado el cuestionario con honores! ¡Sigue con el buen trabajo!\n",
    "\n",
    "¡Perfecto!"
   ]
  },
  {
   "cell_type": "markdown",
   "metadata": {},
   "source": [
    "Buscar objetos datetime\n",
    "\n",
    "Veamos ahora si nuestros datos cambian en cuanto a la apariencia y el tipo de datos tras usar to_datetime():"
   ]
  },
  {
   "cell_type": "code",
   "execution_count": null,
   "metadata": {},
   "outputs": [],
   "source": [
    "import pandas as pd \n",
    "\n",
    "df = pd.read_csv('/datasets/OnlineRetail.csv')\n",
    "df['InvoiceDate'] = pd.to_datetime(df['InvoiceDate'], format='%Y-%m-%dT%H:%M:%SZ')\n",
    "\n",
    "print(df.head())\n",
    "print()\n",
    "df.info()\n",
    "\n",
    "\"\"\"InvoiceNo StockCode                          Description  Quantity  \\\n",
    "0    536520     21123  SET/10 IVORY POLKADOT PARTY CANDLES       1.0   \n",
    "1    536520     21124   SET/10 BLUE POLKADOT PARTY CANDLES       1.0   \n",
    "2    536520     21122   SET/10 PINK POLKADOT PARTY CANDLES       1.0   \n",
    "3    536520     84378        SET OF 3 HEART COOKIE CUTTERS       1.0   \n",
    "4    536520     21985    PACK OF 12 HEARTS DESIGN TISSUES       12.0   \n",
    "\n",
    "          InvoiceDate UnitPrice  CustomerID         Country  \n",
    "0 2010-12-01 12:43:00      1.25     14729.0  United Kingdom  \n",
    "1 2010-12-01 12:43:00      1.25     14729.0  United Kingdom  \n",
    "2 2010-12-01 12:43:00      1.25     14729.0  United Kingdom  \n",
    "3 2010-12-01 12:43:00      1.25     14729.0  United Kingdom  \n",
    "4 2010-12-01 12:43:00      0.29     14729.0  United Kingdom  \n",
    "\n",
    "<class 'pandas.core.frame.DataFrame'>\n",
    "RangeIndex: 50000 entries, 0 to 49999\n",
    "Data columns (total 8 columns):\n",
    " #   Column       Non-Null Count  Dtype         \n",
    "---  ------       --------------  -----         \n",
    " 0   InvoiceNo    50000 non-null  object        \n",
    " 1   StockCode    50000 non-null  object        \n",
    " 2   Description  49857 non-null  object        \n",
    " 3   Quantity     50000 non-null  float64       \n",
    " 4   InvoiceDate  50000 non-null  datetime64[ns]\n",
    " 5   UnitPrice    50000 non-null  object        \n",
    " 6   CustomerID   31599 non-null  float64       \n",
    " 7   Country      50000 non-null  object        \n",
    "dtypes: datetime64[ns](1), float64(2), object(5)\n",
    "memory usage: 3.1+ MB\"\"\""
   ]
  },
  {
   "cell_type": "markdown",
   "metadata": {},
   "source": [
    "¿Puedes ver que los valores mostrados se ven diferente que antes? Eso es porque ahora la columna 'InvoiceDate' es datetime. Aunque los valores se vean diferentes, la información de los strings originales aún sigue ahí.\n",
    "\n",
    "Ahora, el tipo de datos de la columna datetime es un objeto datetime64[ns]. Las letras [ns] se refieren al formato de tiempo basado en nanosegundos que especifica la precisión del objeto DateTime.\n",
    "\n",
    "Ejercicios\n",
    "\n",
    "Ejercicio 1\n",
    "\n",
    "Hemos recibido un nuevo conjunto de datos de nuestros colegas. Los datos se almacenan en un archivo llamado position.csv y contiene datos sobre calificaciones en motores de búsqueda durante los últimos tres meses. Lee el archivo CSV y guárdalo en una variable llamada position. Muestra las primeras quince filas.\n",
    "\n",
    "Ruta de archivo: /datasets/position.csv"
   ]
  },
  {
   "cell_type": "code",
   "execution_count": null,
   "metadata": {},
   "outputs": [],
   "source": [
    "import pandas as pd\n",
    "\n",
    "position = pd.read_csv('/datasets/position.csv')# escribe tu código aquí\n",
    "\n",
    "print(position.head(15))\n",
    "\n",
    "\"\"\"Resultado\n",
    "              timestamp  level   page_id\n",
    "0   2019-02-04T13:22:34      1  6ukoNykP\n",
    "1   2019-02-06T15:30:54      1  Q62R1Ue7\n",
    "2   2019-02-08T14:53:45      1  GmfSxgPs\n",
    "3   2019-02-10T16:50:22      2  M56OK96C\n",
    "4   2019-02-12T14:16:28      1  q2fqVqPc\n",
    "5   2019-02-14T15:10:45      1  LioXfSPk\n",
    "6   2019-02-16T14:52:23      3  bQXWpQ2z\n",
    "7   2019-02-18T15:45:33      2  gsFVGOTy\n",
    "8   2019-02-20T16:35:12      3  zVuiSTm1\n",
    "9   2019-02-22T15:52:27      1  kuULtbnm\n",
    "10  2019-02-24T12:39:30      2  MKDhBt9L\n",
    "11  2019-02-26T12:45:10      3  FEgRztcr\n",
    "12  2019-03-04T15:34:46      4  OUBWQSCl\n",
    "13  2019-03-06T14:20:57      5  6YeTUHgm\n",
    "14  2019-03-08T12:34:43      6  zlrBrZ0d\"\"\""
   ]
  },
  {
   "cell_type": "markdown",
   "metadata": {},
   "source": [
    "Ejercicio 2\n",
    "\n",
    "Llama al método info() en position para echar un vistazo a la información general de los datos."
   ]
  },
  {
   "cell_type": "code",
   "execution_count": null,
   "metadata": {},
   "outputs": [],
   "source": [
    "import pandas as pd\n",
    "\n",
    "position = pd.read_csv('/datasets/position.csv')\n",
    "\n",
    "position.info()# escribe tu código aquí\n",
    "\n",
    "\"\"\"Resultado\n",
    "<class 'pandas.core.frame.DataFrame'>\n",
    "RangeIndex: 39 entries, 0 to 38\n",
    "Data columns (total 3 columns):\n",
    " #   Column     Non-Null Count  Dtype \n",
    "---  ------     --------------  ----- \n",
    " 0   timestamp  39 non-null     object\n",
    " 1   level      39 non-null     int64 \n",
    " 2   page_id    39 non-null     object\n",
    "dtypes: int64(1), object(2)\n",
    "memory usage: 1.0+ KB\"\"\""
   ]
  },
  {
   "cell_type": "markdown",
   "metadata": {},
   "source": [
    "Ejercicio 3\n",
    "\n",
    "Procesa los datos de hora en la columna 'timestamp' convirtiéndolos de string a datetime. Después, muestra las primeras filas en la tabla position usando el método head(). \n",
    "\n",
    "Aquí tienes un ejemplo de fecha que puedes usar como una plantilla del formato del Ejercicio 1: 2019-02-04T13:22:34."
   ]
  },
  {
   "cell_type": "code",
   "execution_count": null,
   "metadata": {},
   "outputs": [],
   "source": [
    "import pandas as pd\n",
    "\n",
    "position = pd.read_csv('/datasets/position.csv')\n",
    "\n",
    "position['timestamp'] = pd.to_datetime(position['timestamp'], format='%Y-%m-%dT%H:%M:%S')# escribe tu código aquí\n",
    "print(position.head()) # escribe tu código aquí\n",
    "\n",
    "\"\"\"Resultado\n",
    "            timestamp  level   page_id\n",
    "0 2019-02-04 13:22:34      1  6ukoNykP\n",
    "1 2019-02-06 15:30:54      1  Q62R1Ue7\n",
    "2 2019-02-08 14:53:45      1  GmfSxgPs\n",
    "3 2019-02-10 16:50:22      2  M56OK96C\n",
    "4 2019-02-12 14:16:28      1  q2fqVqPc\"\"\""
   ]
  }
 ],
 "metadata": {
  "kernelspec": {
   "display_name": "Python 3",
   "language": "python",
   "name": "python3"
  },
  "language_info": {
   "codemirror_mode": {
    "name": "ipython",
    "version": 3
   },
   "file_extension": ".py",
   "mimetype": "text/x-python",
   "name": "python",
   "nbconvert_exporter": "python",
   "pygments_lexer": "ipython3",
   "version": "3.12.0"
  }
 },
 "nbformat": 4,
 "nbformat_minor": 2
}
