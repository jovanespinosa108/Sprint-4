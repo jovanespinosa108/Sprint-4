{
 "cells": [
  {
   "cell_type": "markdown",
   "metadata": {},
   "source": [
    "Introducción\n",
    "¡Te damos la bienvenida al capítulo sobre transformaciones de datos!\n",
    "\n",
    "En este capítulo, estudiarás más a fondo la agrupación y combinación de datos procedentes de distintas fuentes. \n",
    "\n",
    "Concretamente, aprenderás:\n",
    "\n",
    "Cómo funciona la función groupby().\n",
    "\n",
    "Una nueva forma de agrupar datos mediante tablas dinámicas.\n",
    "A combinar datos de diferentes DataFrames mediante la concatenación y la fusión.\n",
    "Seguiremos usando el conjunto de datos de ventas de videojuegos para ayudarte a aprender estas importantes técnicas de análisis de datos.\n",
    "\n",
    "Completar este capítulo te tomará entre 2 y 2.5 horas. ¡Vámonos!"
   ]
  },
  {
   "cell_type": "markdown",
   "metadata": {},
   "source": [
    "Procesamiento de datos agrupados con agg()\n",
    "\n",
    "A estas alturas, ya te debería ser familiar el método groupby() de pandas. Este método nos permite modificar el formato de un conjunto de datos agrupando filas en función de los valores de una o varias columnas. En esta lección, revisaremos groupby() y brindaremos información más detallada sobre cómo funciona.\n",
    "\n",
    "Echemos otro vistazo al conjunto de datos de ventas de videojuegos, usando dropna() para excluir los valores ausentes una vez más:"
   ]
  },
  {
   "cell_type": "code",
   "execution_count": null,
   "metadata": {},
   "outputs": [],
   "source": [
    "import pandas as pd\n",
    "\n",
    "df = pd.read_csv('/datasets/vg_sales.csv')\n",
    "df.dropna(inplace=True)\n",
    "\n",
    "print(df.head())\n",
    "\n",
    "\"\"\"                    name platform  year_of_release     genre publisher  \\\n",
    "0             Wii Sports      Wii           2006.0    Sports  Nintendo   \n",
    "2         Mario Kart Wii      Wii           2008.0    Racing  Nintendo   \n",
    "3      Wii Sports Resort      Wii           2009.0    Sports  Nintendo   \n",
    "6  New Super Mario Bros.       DS           2006.0  Platform  Nintendo   \n",
    "7               Wii Play      Wii           2006.0      Misc  Nintendo   \n",
    "\n",
    "  developer  na_sales  eu_sales  jp_sales  critic_score  user_score  \n",
    "0  Nintendo     41.36     28.96      3.77          76.0         8.0  \n",
    "2  Nintendo     15.68     12.76      3.79          82.0         8.3  \n",
    "3  Nintendo     15.61     10.93      3.28          80.0         8.0  \n",
    "6  Nintendo     11.28      9.14      6.50          89.0         8.5  \n",
    "7  Nintendo     13.96      9.18      2.93          58.0         6.6\"\"\""
   ]
  },
  {
   "cell_type": "markdown",
   "metadata": {},
   "source": [
    "Digamos que necesitamos la puntuación promedio de la crítica para cada género:"
   ]
  },
  {
   "cell_type": "code",
   "execution_count": null,
   "metadata": {},
   "outputs": [],
   "source": [
    "import pandas as pd\n",
    "\n",
    "df = pd.read_csv('/datasets/vg_sales.csv')\n",
    "df.dropna(inplace=True)\n",
    "\n",
    "mean_score = df.groupby('genre')['critic_score'].mean()\n",
    "print(mean_score)\n",
    "\n",
    "\"\"\"genre\n",
    "Acción          67.852100\n",
    "Aventura        66.422053\n",
    "Lucha           69.693931\n",
    "Misc            67.414508\n",
    "Plataforma      70.000000\n",
    "Rompecabezas    70.694915\n",
    "Carreras        69.621160\n",
    "De rol          72.823776\n",
    "Shooter         70.968894\n",
    "Simulación      69.983444\n",
    "Deporte         74.110643\n",
    "Estrategia      72.949458\n",
    "Name: critic_score, dtype: float64\"\"\""
   ]
  },
  {
   "cell_type": "markdown",
   "metadata": {},
   "source": [
    "El índice del objeto Series mean_score es la “clave groupby()”, en este caso, los valores unívocos de la columna 'genre'. Hacer una operación groupby() cambia el índice de fila de los datos a las claves por las que estamos agrupando.\n",
    "\n",
    "Para agrupar por varias columnas, pasamos una lista al método groupby():"
   ]
  },
  {
   "cell_type": "code",
   "execution_count": null,
   "metadata": {},
   "outputs": [],
   "source": [
    "import pandas as pd\n",
    "\n",
    "df = pd.read_csv('/datasets/vg_sales.csv')\n",
    "df.dropna(inplace=True)\n",
    "\n",
    "grp = df.groupby(['platform', 'genre'])\n",
    "print(grp['critic_score'].mean())\n",
    "\n",
    "\"\"\"\n",
    "Platform  genre\n",
    "       \n",
    "3DS       Acción          63.727273\n",
    "          Aventura        68.333333\n",
    "          Lucha           68.857143\n",
    "          Misc            69.100000\n",
    "          Plataforma      72.444444\n",
    "                            ...    \n",
    "XOne      De rol          80.777778\n",
    "          Shooter         77.903226\n",
    "          Simulación      53.000000\n",
    "          Deporte         71.935484\n",
    "          Estrategia      70.000000\n",
    "Name: critic_score, Length: 197, dtype: float64\"\"\""
   ]
  },
  {
   "cell_type": "markdown",
   "metadata": {},
   "source": [
    "Ahora tenemos la puntuación promedio de la crítica para cada género en cada plataforma. Como agrupamos por dos columnas, nuestro resultado es un objeto Series de múltiples índices con dos valores de índice para cada puntuación promedio, en este caso, 'platform' y 'genre'.\n",
    "\n",
    "Aquí la variable grp es un objeto que contiene el DataFrame agrupado antes de que procesemos cada grupo con el método mean(). Se denomina objeto \"en espera\". Si intentamos imprimir el objeto grp, se mostrará una representación del objeto en forma de texto."
   ]
  },
  {
   "cell_type": "code",
   "execution_count": null,
   "metadata": {},
   "outputs": [],
   "source": [
    "import pandas as pd\n",
    "\n",
    "df = pd.read_csv('/datasets/vg_sales.csv')\n",
    "df.dropna(inplace=True)\n",
    "\n",
    "grp = df.groupby(['platform', 'genre'])\n",
    "print(grp)\n",
    "\n",
    "#<pandas.core.groupby.generic.DataFrameGroupBy object at 0x0000022EA82A75B0>\n"
   ]
  },
  {
   "cell_type": "markdown",
   "metadata": {},
   "source": [
    "Cuando imprimimos df.groupby('column_name'), no vemos la impresión de una tabla como ocurriría si imprimiéramos df. En cambio, vemos el tipo de datos del objeto agrupado (DataFrameGroupBy) y una cadena (0x0000022EA82A75B0) que representa la ubicación en la memoria de la computadora donde se almacena el objeto. No se mostrará ningún resultado hasta que procesemos los grupos.\n",
    "\n",
    "Dividir-aplicar-combinar\n",
    "\n",
    "El objeto DataFrameGroubBy forma parte de un framework de procesamiento de datos llamado dividir-aplicar-combinar:\n",
    "\n",
    "- dividir los datos en grupos;\n",
    "- aplicar una función de agregación estadística a cada grupo;\n",
    "- combinar los resultados para cada grupo.\n",
    "\n",
    "En el código a continuación, podemos ilustrar cada uno de los tres componentes de dividir-aplicar-combinar:"
   ]
  },
  {
   "cell_type": "code",
   "execution_count": null,
   "metadata": {},
   "outputs": [],
   "source": [
    "import pandas as pd\n",
    "\n",
    "df = pd.read_csv('/datasets/vg_sales.csv')\n",
    "df.dropna(inplace=True)\n",
    "\n",
    "grp = df.groupby(['platform', 'genre'])\n",
    "mean_scores = grp['critic_score'].mean()\n",
    "print(mean_scores)\n",
    "\n",
    "\"\"\"Platform  genre       \n",
    "3DS       Acción          63.727273\n",
    "          Aventura        68.333333\n",
    "          Lucha           68.857143\n",
    "          Misc            69.100000\n",
    "          Plataforma      72.444444\n",
    "                            ...    \n",
    "XOne      De rol          80.777778\n",
    "          Shooter         77.903226\n",
    "          Simulación      53.000000\n",
    "          Deporte         71.935484\n",
    "          Estrategia      70.000000\n",
    "Name: critic_score, Length: 197, dtype: float64\"\"\""
   ]
  },
  {
   "cell_type": "markdown",
   "metadata": {},
   "source": [
    "Dividimos los datos en grupos con df.groupby(['platform', 'genre']), aplicamos el método mean() y combinamos el resultado en un objeto Series grp['critic_score'].mean().\n",
    "\n",
    "Por supuesto, podemos omitir la creación de los objetos grp y mean_scores y hacer que pandas realice los tres pasos con una sola línea de código:"
   ]
  },
  {
   "cell_type": "code",
   "execution_count": null,
   "metadata": {},
   "outputs": [],
   "source": [
    "import pandas as pd\n",
    "\n",
    "df = pd.read_csv('/datasets/vg_sales.csv')\n",
    "df.dropna(inplace=True)\n",
    "\n",
    "print(df.groupby(['platform', 'genre'])['critic_score'].mean())\n",
    "\n",
    "\"\"\"\n",
    "Platform  genre       \n",
    "3DS       Acción          63.727273\n",
    "          Aventura        68.333333\n",
    "          Lucha           68.857143\n",
    "          Misc            69.100000\n",
    "          Plataforma      72.444444\n",
    "                            ...    \n",
    "XOne      De rol          80.777778\n",
    "          Shooter         77.903226\n",
    "          Simulación      53.000000\n",
    "          Deporte         71.935484\n",
    "          Estrategia      70.000000\n",
    "Name: critic_score, Length: 197, dtype: float64\"\"\""
   ]
  },
  {
   "cell_type": "markdown",
   "metadata": {},
   "source": [
    "El método agg()\n",
    "\n",
    "Hasta ahora, solo hemos aplicado una única función a nuestros grupos. Pero, ¿qué pasa si queremos calcular diferentes estadísticas de resumen para diferentes columnas? Por ejemplo, tanto la puntuación promedio de los críticos como el total de ventas en Japón para cada grupo. Podemos conseguirlo utilizando el método agg(), que es la abreviatura de \"aggregate\" (agregar).\n",
    "\n",
    "El método agg() usa un diccionario como entrada donde las claves son los nombres de columnas y los valores correspondientes son las funciones de agregación que quieres aplicarles:"
   ]
  },
  {
   "cell_type": "code",
   "execution_count": null,
   "metadata": {},
   "outputs": [],
   "source": [
    "import pandas as pd\n",
    "\n",
    "df = pd.read_csv('/datasets/vg_sales.csv')\n",
    "df.dropna(inplace=True)\n",
    "\n",
    "agg_dict = {'critic_score': 'mean', 'jp_sales': 'sum'}\n",
    "\n",
    "grp = df.groupby(['platform', 'genre'])\n",
    "print(grp.agg(agg_dict))\n",
    "\n",
    "\"\"\"                       critic_score  jp_sales\n",
    "Platform  genre                               \n",
    "3DS       Acción       63.727273      6.60\n",
    "          Aventura     68.333333      0.66\n",
    "          Lucha        68.857143      0.46\n",
    "          Misc         69.100000      1.22\n",
    "          Plataforma   72.444444      5.94\n",
    "...                           ...       ...\n",
    "XOne      De rol       80.777778      0.01\n",
    "          Shooter      77.903226      0.13\n",
    "          Simulación   53.000000      0.00\n",
    "          Deporte      71.935484      0.02\n",
    "          Estrategia   70.000000      0.00\n",
    "\n",
    "[197 rows x 2 columns]\"\"\""
   ]
  },
  {
   "cell_type": "markdown",
   "metadata": {},
   "source": [
    "¿No es increíble? ¡Incluso puedes aplicar tus propias funciones personalizadas con agg() de esta manera! Echa un vistazo:"
   ]
  },
  {
   "cell_type": "code",
   "execution_count": null,
   "metadata": {},
   "outputs": [],
   "source": [
    "import pandas as pd\n",
    "\n",
    "df = pd.read_csv('/datasets/vg_sales.csv')\n",
    "df.dropna(inplace=True)\n",
    "\n",
    "def double_it(sales):\n",
    "    sales = sales.sum() * 2 # multiplica la suma anterior por 2\n",
    "    return sales\n",
    "\n",
    "agg_dict = {'jp_sales': double_it}\n",
    "\n",
    "grp = df.groupby(['platform', 'genre'])\n",
    "print(grp.agg(agg_dict))\n",
    "\n",
    "\"\"\"                       jp_sales\n",
    "platform genre\n",
    "3DS      Acción           13.20\n",
    "         Aventura         1.32\n",
    "         Lucha            0.92\n",
    "         Misc             2.44\n",
    "         Plataforma       11.88\n",
    "...                        ... \n",
    "XOne     De rol           0.02\n",
    "         Shooter          0.26\n",
    "         Simulación       0.00\n",
    "         Deporte          0.04\n",
    "         Estrategia       0.00\n",
    "\n",
    "[197 rows x 1 columns]\"\"\""
   ]
  },
  {
   "cell_type": "markdown",
   "metadata": {},
   "source": [
    "Resumen\n",
    "\n",
    "Vamos a recordar todo lo que hemos estudiado en esta lección:\n",
    "\n",
    "- Método groupby(): método utilizado para agrupar datos por una o varias columnas en un DataFrame.\n",
    "- grp = df.groupby(['platform', 'genre']) agrupará por dos columnas al mismo tiempo.\n",
    "- Método agg(): método utilizado para calcular estadísticas agregadas para cada grupo en un DataFrame agrupado. Pásale un diccionario con ítems de 'column':'function'.\n",
    "- Framework dividir-aplicar-combinar: framework de tratamiento de datos que describe el proceso de dividir un conjunto de datos en grupos, aplicar una función a cada grupo y, a continuación, combinar los resultados en una única estructura de datos.\n",
    "- Método mean(): método utilizado para calcular la media de un conjunto de valores.\n",
    "- Método sum(): método utilizado para calcular la suma de un conjunto de valores.\n",
    "- Método dropna(): método utilizado para eliminar valores ausentes (NaN) de un DataFrame.\n",
    "- Objeto DataFrameGroupBy: objeto que contiene el DataFrame agrupado antes de que este sea procesado con una función de agregación."
   ]
  },
  {
   "cell_type": "markdown",
   "metadata": {},
   "source": [
    "¡Es hora de que analicemos en detalle las ventas de videojuegos de cada género!\n",
    "\n",
    "El precódigo crea una columna 'total_sales' como ya has hecho antes. Utilizarás estas columnas, así que apunta sus nombres.\n",
    "\n",
    "A continuación, el precódigo agrupa el DataFrame df por la columna 'genre' y asigna el objeto agrupado resultante a la variable grp.\n",
    "\n",
    "Y ahora vas a hacer lo siguiente:\n",
    "\n",
    "Crear un diccionario para calcular para cada género:\n",
    "- Suma del total de ventas.\n",
    "- Ventas promedio NA (Norteamérica).\n",
    "- Ventas promedio EU (Europa).\n",
    "- Ventas promedio JP (Japón).\n",
    "\n",
    "Asignar el diccionario a una variable llamada agg_dict con las tuplas descritas anteriormente.\n",
    "Asignar el resultado de agg() a una variable llamada genre.\n",
    "Imprimir genre."
   ]
  },
  {
   "cell_type": "code",
   "execution_count": null,
   "metadata": {},
   "outputs": [],
   "source": [
    "import pandas as pd\n",
    "\n",
    "df = pd.read_csv('/datasets/vg_sales.csv')\n",
    "df['total_sales'] = df['na_sales'] + df['eu_sales'] + df['jp_sales']\n",
    "\n",
    "grp = df.groupby('genre')\n",
    "\n",
    "agg_dict = {\n",
    "    'total_sales': 'sum',\n",
    "    'na_sales': 'mean',\n",
    "    'eu_sales': 'mean',\n",
    "    'jp_sales': 'mean'\n",
    "} # escribe aquí tu diccionario con cuatro tuplas, una por cada variable\n",
    "\n",
    "genre = grp.agg(agg_dict) # utiliza aquí la función agg\n",
    "\n",
    "print(genre) # muestra aquí los resultados\n",
    "\n",
    "\"\"\"total_sales  na_sales  eu_sales  jp_sales\n",
    "genre\"\"\""
   ]
  }
 ],
 "metadata": {
  "kernelspec": {
   "display_name": "Python 3",
   "language": "python",
   "name": "python3"
  },
  "language_info": {
   "name": "python",
   "version": "3.12.0"
  }
 },
 "nbformat": 4,
 "nbformat_minor": 2
}
