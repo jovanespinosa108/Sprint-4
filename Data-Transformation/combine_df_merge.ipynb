{
 "cells": [
  {
   "cell_type": "markdown",
   "metadata": {},
   "source": [
    "Combinar DataFrames con merge()\n",
    "\n",
    "Acabas de aprender a combinar DataFrames concatenándolos por filas o columnas usando concat().\n",
    "\n",
    "La concatenación de DataFrames conserva la cantidad total de datos. Por ejemplo, combinar un DataFrame que tiene dos columnas y tres filas con otro DataFrame que tiene las mismas dos columnas y cinco filas da como resultado un DataFrame con dos columnas y ocho filas. El número total de celdas antes y después de la concatenación es dieciséis.\n",
    "\n",
    "En esta lección, aprenderás a combinar DataFrames utilizando el método merge() de forma que afecte a la cantidad de datos con los que estás trabajando.\n",
    "\n",
    "Considera el siguiente ejemplo: dos estudiantes de literatura acuerdan que uno escribirá la mitad de la lista de lectura de verano de la pizarra mientras el otro mira YouTube. Después el primero irá a la cafetería, mientras que el segundo copia el resto de la lista. Finalmente, los dos combinarán las listas. ¡Trabajo en equipo! Vamos a ver cómo les fue:"
   ]
  },
  {
   "cell_type": "code",
   "execution_count": null,
   "metadata": {},
   "outputs": [],
   "source": [
    "import pandas as pd\n",
    "\n",
    "first_pupil_df = pd.DataFrame(\n",
    "    {\n",
    "        'author': ['Alcott', 'Fitzgerald', 'Steinbeck', 'Twain', 'Hemingway'],\n",
    "        'title': ['Little Women',\n",
    "                  'The Great Gatsby',\n",
    "                  'Of Mice and Men',\n",
    "                  'The Adventures of Tom Sawyer',\n",
    "                  'The Old Man and the Sea'\n",
    "                 ],\n",
    "    }\n",
    ")\n",
    "second_pupil_df = pd.DataFrame(\n",
    "    {\n",
    "        'author': ['Steinbeck', 'Twain', 'Hemingway', 'Salinger', 'Hawthorne'],\n",
    "        'title': ['East of Eden',\n",
    "                  'The Adventures of Huckleberry Finn',\n",
    "                  'For Whom the Bell Tolls',\n",
    "                  'The Catcher in the Rye',\n",
    "                  'The Scarlett Letter'\n",
    "                 ],\n",
    "    }\n",
    ")\n",
    "\n",
    "print(first_pupil_df)\n",
    "print()\n",
    "print(second_pupil_df)\n",
    "\n",
    "\"\"\"       author                         title\n",
    "0      Alcott                  Little Women\n",
    "1  Fitzgerald              The Great Gatsby\n",
    "2   Steinbeck               Of Mice and Men\n",
    "3       Twain  The Adventures of Tom Sawyer\n",
    "4   Hemingway       The Old Man and the Sea\n",
    "\n",
    "      author                               title\n",
    "0  Steinbeck                        East of Eden\n",
    "1      Twain  The Adventures of Huckleberry Finn\n",
    "2  Hemingway             For Whom the Bell Tolls\n",
    "3   Salinger              The Catcher in the Rye\n",
    "4  Hawthorne                 The Scarlett Letter\"\"\"\n",
    "\n"
   ]
  },
  {
   "cell_type": "markdown",
   "metadata": {},
   "source": [
    "Unión interna\n",
    "\n",
    "Usemos el método merge() para combinar entradas que tienen los mismos autores. El nombre de la columna en la que se realizará la fusión se pasa al parámetro on=, en este caso, 'author':\n"
   ]
  },
  {
   "cell_type": "code",
   "execution_count": null,
   "metadata": {},
   "outputs": [],
   "source": [
    "both_pupils = first_pupil_df.merge(second_pupil_df, on='author')\n",
    "print(both_pupils) \n",
    "\n",
    "\n",
    "\"\"\"      author                       title_x                             title_y\n",
    "0  Steinbeck               Of Mice and Men                        East of Eden\n",
    "1      Twain  The Adventures of Tom Sawyer  The Adventures of Huckleberry Finn\n",
    "2  Hemingway       The Old Man and the Sea             For Whom the Bell Tolls\n",
    "\"\"\""
   ]
  },
  {
   "cell_type": "markdown",
   "metadata": {},
   "source": [
    "El resultado contiene solo aquellos autores que están presentes en ambos DataFrames originales.\n",
    "\n",
    "El DataFrame fusionado incluye todas las columnas de los DataFrames originales, pero solo se conservan las filas con autores compartidos. Ya que ambos DataFrames originales tienen una columna llamada 'title', pandas agregó los sufijos _x y _y para diferenciarlas en el DataFrame fusionado. Cabe destacar que el DataFrame fusionado solo tiene 9 celdas, frente a las 20 celdas de los DataFrame originales: ¡la cantidad de datos ha cambiado!\n",
    "\n",
    "Este modo de fusionar se denomina unión interna (inner merge). Existen otros tipos de fusiones, que pueden especificarse con el parámetro how= de merge(). Pero 'inner' es el argumento por defecto para how=, así que no necesitamos incluirlo arriba.\n",
    "\n",
    "Unión externa\n",
    "\n",
    "Una unión externa (outer merge) se diferencia de una unión interna en que todos los valores en la columna especificada se conservan de ambos DataFrames originales, pero el DataFrame fusionado tiene valores ausentes donde no hay ninguna coincidencia. Lo mejor es ilustrar esto con un ejemplo:\n",
    "\n"
   ]
  },
  {
   "cell_type": "code",
   "execution_count": null,
   "metadata": {},
   "outputs": [],
   "source": [
    "both_pupils = first_pupil_df.merge(second_pupil_df, on='author', how='outer')\n",
    "print(both_pupils)\n",
    "\n",
    "\"\"\"      author                       title_x  \\\n",
    "0      Alcott                  Little Women   \n",
    "1  Fitzgerald              The Great Gatsby   \n",
    "2   Steinbeck               Of Mice and Men   \n",
    "3       Twain  The Adventures of Tom Sawyer   \n",
    "4   Hemingway       The Old Man and the Sea   \n",
    "5    Salinger                           NaN   \n",
    "6   Hawthorne                           NaN   \n",
    "\n",
    "                              title_y  \n",
    "0                                 NaN  \n",
    "1                                 NaN  \n",
    "2                        East of Eden  \n",
    "3  The Adventures of Huckleberry Finn  \n",
    "4             For Whom the Bell Tolls  \n",
    "5              The Catcher in the Rye  \n",
    "6                 The Scarlett Letter\"\"\""
   ]
  },
  {
   "cell_type": "markdown",
   "metadata": {},
   "source": [
    "Hay 7 autores únicos en ambos DataFrames originales, cada uno se representa con una fila en el DataFrame fusionado. Para los autores en el primer DataFrame que no están también en el segundo (es decir, 'Alcott' y 'Fitzgerald'), hay valores NaN en la columna que proviene del segundo DataFrame (es decir, 'title_y'), y viceversa. Además, observa que ahora tenemos 21 celdas de datos.\n",
    "\n",
    "Unión izquierda\n",
    "\n",
    "El último tipo de unión que nos gustaría discutir es la unión izquierda (left merge), que podemos realizar pasando how='left' a merge(). En una unión izquierda, todos los valores del DataFrame izquierdo (en el que llamamos merge()) están presentes en el DataFrame fusionado. Los valores del DataFrame derecho (el que pasamos como entrada a merge()) solo se conservan para los valores que coinciden con la columna especificada en el DataFrame izquierdo. Una vez más, se explica mejor con un ejemplo:"
   ]
  },
  {
   "cell_type": "code",
   "execution_count": null,
   "metadata": {},
   "outputs": [],
   "source": [
    "both_pupils = first_pupil_df.merge(second_pupil_df, on='author', how='left')\n",
    "print(both_pupils)\n",
    "\n",
    "\"\"\"      author                       title_x  \\\n",
    "0      Alcott                  Little Women   \n",
    "1  Fitzgerald              The Great Gatsby   \n",
    "2   Steinbeck               Of Mice and Men   \n",
    "3       Twain  The Adventures of Tom Sawyer   \n",
    "4   Hemingway       The Old Man and the Sea   \n",
    "\n",
    "                              title_y  \n",
    "0                                 NaN  \n",
    "1                                 NaN  \n",
    "2                        East of Eden  \n",
    "3  The Adventures of Huckleberry Finn  \n",
    "4             For Whom the Bell Tolls\"\"\""
   ]
  },
  {
   "cell_type": "markdown",
   "metadata": {},
   "source": [
    "Como puedes ver, todos los autores y títulos del primer estudiante están en el DataFrame fusionado, pero las filas con 'Salinger' y 'Hawthorne' del segundo estudiante no lo están porque esos autores no aparecen en el DataFrame del primer estudiante.\n",
    "\n",
    "Esta unión izquierda contiene 15 celdas de datos, que difieren de la cantidad original y las cantidades de cada una de las otras uniones que hicimos.\n",
    "\n",
    "Ten en cuenta que también existe una unión derecha (right merge, how='right'). Sin embargo, funciona de manera idéntica a una unión izquierda, excepto que el DataFrame combinado conserva todos los valores del DataFrame derecho en vez del izquierdo. Se puede lograr el mismo resultado realizando una unión izquierda y cambiando el orden de los DataFrames.\n",
    "\n",
    "Aquí tienes un diagrama de Venn que ilustra todas las opciones de fusión que hemos comentado, para que sea aún más fácil de entender:\n",
    "\n",
    "\n",
    "\n",
    "Tener en cuenta los nombres de las columnas\n",
    "\n",
    "Hay dos aspectos de todas las uniones realizadas hasta ahora que debemos abordar:\n",
    "\n",
    "- El DataFrame fusionado tiene los sufijos _x y _y agregados a los nombres de las columnas 'title'.\n",
    "- La columna en la que realizamos la unión tiene el mismo nombre en ambos DataFrames, 'author'.\n",
    "\n",
    "Cuando se fusionan DataFrames en pandas, es importante asegurarse de que no hay dos columnas con el mismo nombre. En caso contrario, pandas añadirá automáticamente los sufijos _x y _y. Sin embargo, estos sufijos no son muy descriptivos. Para establecer mejores sufijos, pasa una lista de cadenas de sufijos al parámetro suffixes= en merge():\n",
    "\n"
   ]
  },
  {
   "cell_type": "code",
   "execution_count": null,
   "metadata": {},
   "outputs": [],
   "source": [
    "both_pupils = first_pupil_df.merge(second_pupil_df,\n",
    "                                   on='author',\n",
    "                                   suffixes=['_1st_student', '_2nd_student']\n",
    "                                  )\n",
    "print(both_pupils)\n",
    "\n",
    "\"\"\"      author             title_1st_student                   title_2nd_student\n",
    "0  Steinbeck               Of Mice and Men                        East of Eden\n",
    "1      Twain  The Adventures of Tom Sawyer  The Adventures of Huckleberry Finn\n",
    "2  Hemingway       The Old Man and the Sea             For Whom the Bell Tolls\"\"\""
   ]
  },
  {
   "cell_type": "markdown",
   "metadata": {},
   "source": [
    "Ahora, los nombres de las columnas indican explícitamente el origen de las mismas. Siempre es una buena práctica usar nombres de columnas descriptivos como estos. Ten en cuenta que la primera cadena en la lista de sufijos se agrega al nombre de la columna del DataFrame izquierdo y la segunda cadena se agrega al DataFrame derecho.\n",
    "\n",
    "En cuanto al segundo punto, no siempre es el caso de que las columnas que quieres fusionar tengan el mismo nombre. Puedes cambiar sus nombres para que coincidan antes de fusionar, pero esto puede causar confusión.\n",
    "\n",
    "En cambio, la función merge() tiene los parámetros left_on= y right_on= que puedes usar en lugar de on= si las columnas tienen nombres diferentes. Para ilustrar cómo funciona, vamos a recrear los DataFrames para que uno tenga una columna 'authors' y el otro tenga una columna 'author':"
   ]
  },
  {
   "cell_type": "code",
   "execution_count": null,
   "metadata": {},
   "outputs": [],
   "source": [
    "import pandas as pd\n",
    "\n",
    "first_pupil_df = pd.DataFrame(\n",
    "    {\n",
    "        'authors': ['Alcott', 'Fitzgerald', 'Steinbeck', 'Twain', 'Hemingway'],\n",
    "        'title': ['Little Women',\n",
    "                  'The Great Gatsby',\n",
    "                  'Of Mice and Men',\n",
    "                  'The Adventures of Tom Sawyer',\n",
    "                  'The Old Man and the Sea'\n",
    "                 ],\n",
    "    }\n",
    ")\n",
    "second_pupil_df = pd.DataFrame(\n",
    "    {\n",
    "        'author': ['Steinbeck', 'Twain', 'Hemingway', 'Salinger', 'Hawthorne'],\n",
    "        'title': ['East of Eden',\n",
    "                  'The Adventures of Huckleberry Finn',\n",
    "                  'For Whom the Bell Tolls',\n",
    "                  'The Catcher in the Rye',\n",
    "                  'The Scarlett Letter'\n",
    "                 ],\n",
    "    }\n",
    ")\n",
    "\n",
    "both_pupils = first_pupil_df.merge(second_pupil_df,\n",
    "                                   left_on='authors',\n",
    "                                   right_on='author'\n",
    "                                  )\n",
    "print(both_pupils)\n",
    "\n",
    "\"\"\"\n",
    "     authors                       title_x     author  \\\n",
    "0  Steinbeck               Of Mice and Men  Steinbeck   \n",
    "1      Twain  The Adventures of Tom Sawyer      Twain   \n",
    "2  Hemingway       The Old Man and the Sea  Hemingway   \n",
    "\n",
    "                              title_y  \n",
    "0                        East of Eden  \n",
    "1  The Adventures of Huckleberry Finn  \n",
    "2             For Whom the Bell Tolls\"\"\""
   ]
  },
  {
   "cell_type": "markdown",
   "metadata": {},
   "source": [
    "Esta vez, Pandas mostrará tanto 'authors' como 'author', pero estarán alineados y bien posicionados, para que puedas entender los resultados y cómo se relacionan entre sí.\n",
    "\n",
    "El método drop()\n",
    "\n",
    "Ahora tenemos el resultado de la fusión interna, que contiene alguna información duplicada porque tanto 'author' como 'authors' se conservaron de los DataFrames originales, como vimos anteriormente.\n",
    "\n",
    "Si queremos eliminar la información duplicada, podemos usar el método drop() con axis='columns' para señalar que queremos eliminar una columna en lugar de una fila:"
   ]
  },
  {
   "cell_type": "code",
   "execution_count": null,
   "metadata": {},
   "outputs": [],
   "source": [
    "both_pupils = first_pupil_df.merge(second_pupil_df,\n",
    "                                   left_on='authors',\n",
    "                                   right_on='author'\n",
    "                                  )\n",
    "print(both_pupils.drop('author', axis='columns'))\n",
    "\n",
    "\"\"\"     authors                       title_x                             title_y\n",
    "0  Steinbeck               Of Mice and Men                        East of Eden\n",
    "1      Twain  The Adventures of Tom Sawyer  The Adventures of Huckleberry Finn\n",
    "2  Hemingway       The Old Man and the Sea             For Whom the Bell Tolls\"\"\""
   ]
  },
  {
   "cell_type": "markdown",
   "metadata": {},
   "source": [
    "Resumen\n",
    "\n",
    "- Fusión interna: solo conserva las filas con valores compartidos en la columna especificada de ambos DataFrames originales. Se hace con how='inner' (argumento por defecto).\n",
    "- Fusión externa: conserva todos los valores de la columna especificada de ambos DataFrames originales, con los valores ausentes donde no haya coincidencia. Se hace con how='outer'.\n",
    "- Fusión izquierda: conserva todos los valores del DataFrame izquierdo, y los valores del DataFrame derecho solo se conservan para los valores que coinciden con la columna especificada en el DataFrame izquierdo. Se hace con how='left'.\n",
    "- Fusión derecha: conserva todos los valores del DataFrame derecho, y los valores del DataFrame izquierdo solo se conservan para los valores que coinciden con la columna especificada en el DataFrame derecho. Se hace con how='right'.\n",
    "- Método drop(): elimina una columna de un DataFrame utilizando el parámetro axis='columns'.\n",
    "\n",
    "Ahora es tu turno de probar tus habilidades de unión con un nuevo DataFrame en los ejercicios."
   ]
  },
  {
   "cell_type": "markdown",
   "metadata": {},
   "source": [
    "Ejercicios\n",
    "\n",
    "1.\n",
    "\n",
    "Tenemos dos conjuntos de datos, df_orders y df_members, que se leen en DataFrames en el precódigo.\n",
    "\n",
    "Cada fila de la tabla df_orders representa un pedido de servicio. La tabla incluye una columna 'user_id' que registra el cliente que ha realizado cada pedido y una columna 'id' que identifica el pedido.\n",
    "\n",
    "Cada fila de la tabla df_members representa a un cliente e incluye una columna 'id' que identifica al cliente de forma única.\n",
    "\n",
    "Tienes que fusionar las dos tablas para obtener solo aquellos clientes que realmente hayan realizado un pedido.\n",
    "\n",
    "- Elegir el tipo de fusión adecuado para la tarea.\n",
    "- Fusiona df_memberscomo el DataFrame izquierdo, usando la columna user id.\n",
    "- Fusiona df_orders como el DataFrame correcto, utilizando la columna id de usuario, no el id de pedido.\n",
    "- Incluye los sufijos '_member' (izquierda) y '_order' (derecha).\n",
    "- Asigna el resultado de la fusión a una variable llamada df_merged.\n",
    "- Muestra df_merged.\n",
    "- No elimines ninguna columna por ahora."
   ]
  },
  {
   "cell_type": "code",
   "execution_count": null,
   "metadata": {},
   "outputs": [],
   "source": [
    "import pandas as pd\n",
    "\n",
    "df_members = pd.read_csv('/datasets/new_members.csv')\n",
    "df_orders  = pd.read_csv('/datasets/recent_orders.csv')\n",
    "\n",
    "df_merged = df_members.merge(df_orders, left_on = 'id', right_on= 'user_id', suffixes=['_member', '_order']) \n",
    "\n",
    "print(df_merged)\n",
    "\n",
    "\"\"\"   id_member      username  ...    service_id      order_timestamp\n",
    "0       9836  watermelon89  ...  XMD8nVShpINn  2021-06-22Z18:32:59\n",
    "1       9836  watermelon89  ...  PXAQ9MiP7BvW  2021-06-22Z18:32:59\n",
    "2       9837       SUPERXD  ...  R2GA1xIVXK1o  2021-06-22Z18:39:12\n",
    "3       9839    NotHotDog2  ...  NvwWjzW7FydE  2021-06-22Z18:36:21\n",
    "4       9840      starrats  ...  9KyrlovWf2nH  2021-06-22Z18:34:00\n",
    "5       9841     beat1box2  ...  fCobsButtJD7  2021-06-22Z18:36:55\n",
    "\n",
    "[6 rows x 7 columns]\"\"\""
   ]
  },
  {
   "cell_type": "markdown",
   "metadata": {},
   "source": [
    "Explicación paso a paso:\n",
    "\n",
    "Lectura de archivos CSV: El código comienza leyendo dos archivos CSV usando pd.read_csv(). El archivo new_members.csv se carga en df_members, y el archivo recent_orders.csv se carga en df_orders. Estos archivos contienen información de los miembros (clientes) y los pedidos (órdenes) respectivamente.\n",
    "\n",
    "Fusión de los DataFrames: La función merge() se usa para fusionar ambos DataFrames en base a una columna común:\n",
    "\n",
    "\n",
    "- left_on='id': Esta es la columna en df_members que se usará para realizar la fusión (en este caso, la columna que identifica a los miembros).\n",
    "- right_on='user_id': Esta es la columna en df_orders que se usará para realizar la fusión (la columna que identifica al cliente que ha hecho un pedido).\n",
    "- suffixes=['_member', '_order']: Si hay columnas con el mismo nombre en ambos DataFrames (como 'id' o 'username', por ejemplo), estos sufijos se añaden a los nombres de las columnas para diferenciarlas: las columnas provenientes de df_members tendrán el sufijo _member y las columnas provenientes de df_orders tendrán el sufijo _order.\n",
    "- El tipo de fusión predeterminado es inner (intersección), lo que significa que solo se incluirán aquellos registros que tienen coincidencias en ambas tablas.\n",
    "\n",
    "Resultado de la fusión: El resultado que obtuviste es un DataFrame df_merged con los siguientes 6 registros y 7 columnas:"
   ]
  },
  {
   "cell_type": "markdown",
   "metadata": {},
   "source": [
    "Ejercicio\n",
    "\n",
    "2.\n",
    "\n",
    "Vamos a arreglarlo un poco.\n",
    "\n",
    "Elimina la columna duplicada (en este caso, 'user_id').\n",
    "Asigna el resultado de vuelta al DataFrame 'df_merged'.\n",
    "Muestra el DataFrame fusionado."
   ]
  },
  {
   "cell_type": "code",
   "execution_count": null,
   "metadata": {},
   "outputs": [],
   "source": [
    "import pandas as pd\n",
    "\n",
    "df_members = pd.read_csv('/datasets/new_members.csv')\n",
    "df_orders  = pd.read_csv('/datasets/recent_orders.csv')\n",
    "\n",
    "df_merged = df_members.merge(df_orders,\n",
    "                             left_on='id',\n",
    "                             right_on='user_id',\n",
    "                             suffixes=['_member', '_order'])\n",
    "\n",
    "df_merged = df_merged.drop('user_id', axis='columns')\n",
    "\n",
    "print(df_merged) # escribe tu código aquí\n",
    "\n",
    "\"\"\"   id_member      username  ...    service_id      order_timestamp\n",
    "0       9836  watermelon89  ...  XMD8nVShpINn  2021-06-22Z18:32:59\n",
    "1       9836  watermelon89  ...  PXAQ9MiP7BvW  2021-06-22Z18:32:59\n",
    "2       9837       SUPERXD  ...  R2GA1xIVXK1o  2021-06-22Z18:39:12\n",
    "3       9839    NotHotDog2  ...  NvwWjzW7FydE  2021-06-22Z18:36:21\n",
    "4       9840      starrats  ...  9KyrlovWf2nH  2021-06-22Z18:34:00\n",
    "5       9841     beat1box2  ...  fCobsButtJD7  2021-06-22Z18:36:55\n",
    "\n",
    "[6 rows x 6 columns]\"\"\""
   ]
  }
 ],
 "metadata": {
  "kernelspec": {
   "display_name": "Python 3",
   "language": "python",
   "name": "python3"
  },
  "language_info": {
   "name": "python",
   "version": "3.12.0"
  }
 },
 "nbformat": 4,
 "nbformat_minor": 2
}
